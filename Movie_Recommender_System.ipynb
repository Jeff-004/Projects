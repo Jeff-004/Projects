{
  "nbformat": 4,
  "nbformat_minor": 0,
  "metadata": {
    "colab": {
      "provenance": [],
      "toc_visible": true,
      "mount_file_id": "1UR4aE6QqK7iabH12cRFOldAzRmt4nU2r",
      "authorship_tag": "ABX9TyP1Z4b7iUvXLqGFWOnLKxX0",
      "include_colab_link": true
    },
    "kernelspec": {
      "name": "python3",
      "display_name": "Python 3"
    },
    "language_info": {
      "name": "python"
    }
  },
  "cells": [
    {
      "cell_type": "markdown",
      "metadata": {
        "id": "view-in-github",
        "colab_type": "text"
      },
      "source": [
        "<a href=\"https://colab.research.google.com/github/Jeff-004/Projects/blob/main/Movie_Recommender_System.ipynb\" target=\"_parent\"><img src=\"https://colab.research.google.com/assets/colab-badge.svg\" alt=\"Open In Colab\"/></a>"
      ]
    },
    {
      "cell_type": "code",
      "execution_count": null,
      "metadata": {
        "id": "rJIt0P12KJD0"
      },
      "outputs": [],
      "source": [
        "#importing dependencies\n",
        "import numpy as np\n",
        "import pandas as pd\n",
        "import difflib\n",
        "from sklearn.feature_extraction.text import TfidfVectorizer\n",
        "from sklearn.metrics.pairwise import cosine_similarity"
      ]
    },
    {
      "cell_type": "code",
      "source": [
        "movies = pd.read_csv(\"/content/drive/MyDrive/Datasets/movies.csv\", on_bad_lines='skip')\n",
        "movies.head()"
      ],
      "metadata": {
        "colab": {
          "base_uri": "https://localhost:8080/",
          "height": 678
        },
        "id": "Z5lFcQrcL7Bu",
        "outputId": "582ee4d1-73f1-494d-afa8-43bdde5e2418"
      },
      "execution_count": null,
      "outputs": [
        {
          "output_type": "execute_result",
          "data": {
            "text/plain": [
              "                                         Poster_Link  \\\n",
              "0  https://m.media-amazon.com/images/M/MV5BMDFkYT...   \n",
              "1  https://m.media-amazon.com/images/M/MV5BM2MyNj...   \n",
              "2  https://m.media-amazon.com/images/M/MV5BMTMxNT...   \n",
              "3  https://m.media-amazon.com/images/M/MV5BMWMwMG...   \n",
              "4  https://m.media-amazon.com/images/M/MV5BMWU4N2...   \n",
              "\n",
              "               Series_Title Released_Year Certificate  Runtime  \\\n",
              "0  The Shawshank Redemption          1994           A  142 min   \n",
              "1             The Godfather          1972           A  175 min   \n",
              "2           The Dark Knight          2008          UA  152 min   \n",
              "3    The Godfather: Part II          1974           A  202 min   \n",
              "4              12 Angry Men          1957           U   96 min   \n",
              "\n",
              "                  Genre  IMDB_Rating  \\\n",
              "0                 Drama          9.3   \n",
              "1          Crime, Drama          9.2   \n",
              "2  Action, Crime, Drama          9.0   \n",
              "3          Crime, Drama          9.0   \n",
              "4          Crime, Drama          9.0   \n",
              "\n",
              "                                            Overview  Meta_score  \\\n",
              "0  Two imprisoned men bond over a number of years...        80.0   \n",
              "1  An organized crime dynasty's aging patriarch t...       100.0   \n",
              "2  When the menace known as the Joker wreaks havo...        84.0   \n",
              "3  The early life and career of Vito Corleone in ...        90.0   \n",
              "4  A jury holdout attempts to prevent a miscarria...        96.0   \n",
              "\n",
              "               Director           Star1           Star2          Star3  \\\n",
              "0        Frank Darabont     Tim Robbins  Morgan Freeman     Bob Gunton   \n",
              "1  Francis Ford Coppola   Marlon Brando       Al Pacino     James Caan   \n",
              "2     Christopher Nolan  Christian Bale    Heath Ledger  Aaron Eckhart   \n",
              "3  Francis Ford Coppola       Al Pacino  Robert De Niro  Robert Duvall   \n",
              "4          Sidney Lumet     Henry Fonda     Lee J. Cobb  Martin Balsam   \n",
              "\n",
              "            Star4  No_of_Votes        Gross  \n",
              "0  William Sadler      2343110   28,341,469  \n",
              "1    Diane Keaton      1620367  134,966,411  \n",
              "2   Michael Caine      2303232  534,858,444  \n",
              "3    Diane Keaton      1129952   57,300,000  \n",
              "4    John Fiedler       689845    4,360,000  "
            ],
            "text/html": [
              "\n",
              "  <div id=\"df-f67b6679-1da2-4dfe-9dc5-991e14cec473\" class=\"colab-df-container\">\n",
              "    <div>\n",
              "<style scoped>\n",
              "    .dataframe tbody tr th:only-of-type {\n",
              "        vertical-align: middle;\n",
              "    }\n",
              "\n",
              "    .dataframe tbody tr th {\n",
              "        vertical-align: top;\n",
              "    }\n",
              "\n",
              "    .dataframe thead th {\n",
              "        text-align: right;\n",
              "    }\n",
              "</style>\n",
              "<table border=\"1\" class=\"dataframe\">\n",
              "  <thead>\n",
              "    <tr style=\"text-align: right;\">\n",
              "      <th></th>\n",
              "      <th>Poster_Link</th>\n",
              "      <th>Series_Title</th>\n",
              "      <th>Released_Year</th>\n",
              "      <th>Certificate</th>\n",
              "      <th>Runtime</th>\n",
              "      <th>Genre</th>\n",
              "      <th>IMDB_Rating</th>\n",
              "      <th>Overview</th>\n",
              "      <th>Meta_score</th>\n",
              "      <th>Director</th>\n",
              "      <th>Star1</th>\n",
              "      <th>Star2</th>\n",
              "      <th>Star3</th>\n",
              "      <th>Star4</th>\n",
              "      <th>No_of_Votes</th>\n",
              "      <th>Gross</th>\n",
              "    </tr>\n",
              "  </thead>\n",
              "  <tbody>\n",
              "    <tr>\n",
              "      <th>0</th>\n",
              "      <td>https://m.media-amazon.com/images/M/MV5BMDFkYT...</td>\n",
              "      <td>The Shawshank Redemption</td>\n",
              "      <td>1994</td>\n",
              "      <td>A</td>\n",
              "      <td>142 min</td>\n",
              "      <td>Drama</td>\n",
              "      <td>9.3</td>\n",
              "      <td>Two imprisoned men bond over a number of years...</td>\n",
              "      <td>80.0</td>\n",
              "      <td>Frank Darabont</td>\n",
              "      <td>Tim Robbins</td>\n",
              "      <td>Morgan Freeman</td>\n",
              "      <td>Bob Gunton</td>\n",
              "      <td>William Sadler</td>\n",
              "      <td>2343110</td>\n",
              "      <td>28,341,469</td>\n",
              "    </tr>\n",
              "    <tr>\n",
              "      <th>1</th>\n",
              "      <td>https://m.media-amazon.com/images/M/MV5BM2MyNj...</td>\n",
              "      <td>The Godfather</td>\n",
              "      <td>1972</td>\n",
              "      <td>A</td>\n",
              "      <td>175 min</td>\n",
              "      <td>Crime, Drama</td>\n",
              "      <td>9.2</td>\n",
              "      <td>An organized crime dynasty's aging patriarch t...</td>\n",
              "      <td>100.0</td>\n",
              "      <td>Francis Ford Coppola</td>\n",
              "      <td>Marlon Brando</td>\n",
              "      <td>Al Pacino</td>\n",
              "      <td>James Caan</td>\n",
              "      <td>Diane Keaton</td>\n",
              "      <td>1620367</td>\n",
              "      <td>134,966,411</td>\n",
              "    </tr>\n",
              "    <tr>\n",
              "      <th>2</th>\n",
              "      <td>https://m.media-amazon.com/images/M/MV5BMTMxNT...</td>\n",
              "      <td>The Dark Knight</td>\n",
              "      <td>2008</td>\n",
              "      <td>UA</td>\n",
              "      <td>152 min</td>\n",
              "      <td>Action, Crime, Drama</td>\n",
              "      <td>9.0</td>\n",
              "      <td>When the menace known as the Joker wreaks havo...</td>\n",
              "      <td>84.0</td>\n",
              "      <td>Christopher Nolan</td>\n",
              "      <td>Christian Bale</td>\n",
              "      <td>Heath Ledger</td>\n",
              "      <td>Aaron Eckhart</td>\n",
              "      <td>Michael Caine</td>\n",
              "      <td>2303232</td>\n",
              "      <td>534,858,444</td>\n",
              "    </tr>\n",
              "    <tr>\n",
              "      <th>3</th>\n",
              "      <td>https://m.media-amazon.com/images/M/MV5BMWMwMG...</td>\n",
              "      <td>The Godfather: Part II</td>\n",
              "      <td>1974</td>\n",
              "      <td>A</td>\n",
              "      <td>202 min</td>\n",
              "      <td>Crime, Drama</td>\n",
              "      <td>9.0</td>\n",
              "      <td>The early life and career of Vito Corleone in ...</td>\n",
              "      <td>90.0</td>\n",
              "      <td>Francis Ford Coppola</td>\n",
              "      <td>Al Pacino</td>\n",
              "      <td>Robert De Niro</td>\n",
              "      <td>Robert Duvall</td>\n",
              "      <td>Diane Keaton</td>\n",
              "      <td>1129952</td>\n",
              "      <td>57,300,000</td>\n",
              "    </tr>\n",
              "    <tr>\n",
              "      <th>4</th>\n",
              "      <td>https://m.media-amazon.com/images/M/MV5BMWU4N2...</td>\n",
              "      <td>12 Angry Men</td>\n",
              "      <td>1957</td>\n",
              "      <td>U</td>\n",
              "      <td>96 min</td>\n",
              "      <td>Crime, Drama</td>\n",
              "      <td>9.0</td>\n",
              "      <td>A jury holdout attempts to prevent a miscarria...</td>\n",
              "      <td>96.0</td>\n",
              "      <td>Sidney Lumet</td>\n",
              "      <td>Henry Fonda</td>\n",
              "      <td>Lee J. Cobb</td>\n",
              "      <td>Martin Balsam</td>\n",
              "      <td>John Fiedler</td>\n",
              "      <td>689845</td>\n",
              "      <td>4,360,000</td>\n",
              "    </tr>\n",
              "  </tbody>\n",
              "</table>\n",
              "</div>\n",
              "    <div class=\"colab-df-buttons\">\n",
              "\n",
              "  <div class=\"colab-df-container\">\n",
              "    <button class=\"colab-df-convert\" onclick=\"convertToInteractive('df-f67b6679-1da2-4dfe-9dc5-991e14cec473')\"\n",
              "            title=\"Convert this dataframe to an interactive table.\"\n",
              "            style=\"display:none;\">\n",
              "\n",
              "  <svg xmlns=\"http://www.w3.org/2000/svg\" height=\"24px\" viewBox=\"0 -960 960 960\">\n",
              "    <path d=\"M120-120v-720h720v720H120Zm60-500h600v-160H180v160Zm220 220h160v-160H400v160Zm0 220h160v-160H400v160ZM180-400h160v-160H180v160Zm440 0h160v-160H620v160ZM180-180h160v-160H180v160Zm440 0h160v-160H620v160Z\"/>\n",
              "  </svg>\n",
              "    </button>\n",
              "\n",
              "  <style>\n",
              "    .colab-df-container {\n",
              "      display:flex;\n",
              "      gap: 12px;\n",
              "    }\n",
              "\n",
              "    .colab-df-convert {\n",
              "      background-color: #E8F0FE;\n",
              "      border: none;\n",
              "      border-radius: 50%;\n",
              "      cursor: pointer;\n",
              "      display: none;\n",
              "      fill: #1967D2;\n",
              "      height: 32px;\n",
              "      padding: 0 0 0 0;\n",
              "      width: 32px;\n",
              "    }\n",
              "\n",
              "    .colab-df-convert:hover {\n",
              "      background-color: #E2EBFA;\n",
              "      box-shadow: 0px 1px 2px rgba(60, 64, 67, 0.3), 0px 1px 3px 1px rgba(60, 64, 67, 0.15);\n",
              "      fill: #174EA6;\n",
              "    }\n",
              "\n",
              "    .colab-df-buttons div {\n",
              "      margin-bottom: 4px;\n",
              "    }\n",
              "\n",
              "    [theme=dark] .colab-df-convert {\n",
              "      background-color: #3B4455;\n",
              "      fill: #D2E3FC;\n",
              "    }\n",
              "\n",
              "    [theme=dark] .colab-df-convert:hover {\n",
              "      background-color: #434B5C;\n",
              "      box-shadow: 0px 1px 3px 1px rgba(0, 0, 0, 0.15);\n",
              "      filter: drop-shadow(0px 1px 2px rgba(0, 0, 0, 0.3));\n",
              "      fill: #FFFFFF;\n",
              "    }\n",
              "  </style>\n",
              "\n",
              "    <script>\n",
              "      const buttonEl =\n",
              "        document.querySelector('#df-f67b6679-1da2-4dfe-9dc5-991e14cec473 button.colab-df-convert');\n",
              "      buttonEl.style.display =\n",
              "        google.colab.kernel.accessAllowed ? 'block' : 'none';\n",
              "\n",
              "      async function convertToInteractive(key) {\n",
              "        const element = document.querySelector('#df-f67b6679-1da2-4dfe-9dc5-991e14cec473');\n",
              "        const dataTable =\n",
              "          await google.colab.kernel.invokeFunction('convertToInteractive',\n",
              "                                                    [key], {});\n",
              "        if (!dataTable) return;\n",
              "\n",
              "        const docLinkHtml = 'Like what you see? Visit the ' +\n",
              "          '<a target=\"_blank\" href=https://colab.research.google.com/notebooks/data_table.ipynb>data table notebook</a>'\n",
              "          + ' to learn more about interactive tables.';\n",
              "        element.innerHTML = '';\n",
              "        dataTable['output_type'] = 'display_data';\n",
              "        await google.colab.output.renderOutput(dataTable, element);\n",
              "        const docLink = document.createElement('div');\n",
              "        docLink.innerHTML = docLinkHtml;\n",
              "        element.appendChild(docLink);\n",
              "      }\n",
              "    </script>\n",
              "  </div>\n",
              "\n",
              "\n",
              "    <div id=\"df-9136d9ee-804d-4c69-808e-ff415abc5215\">\n",
              "      <button class=\"colab-df-quickchart\" onclick=\"quickchart('df-9136d9ee-804d-4c69-808e-ff415abc5215')\"\n",
              "                title=\"Suggest charts\"\n",
              "                style=\"display:none;\">\n",
              "\n",
              "<svg xmlns=\"http://www.w3.org/2000/svg\" height=\"24px\"viewBox=\"0 0 24 24\"\n",
              "     width=\"24px\">\n",
              "    <g>\n",
              "        <path d=\"M19 3H5c-1.1 0-2 .9-2 2v14c0 1.1.9 2 2 2h14c1.1 0 2-.9 2-2V5c0-1.1-.9-2-2-2zM9 17H7v-7h2v7zm4 0h-2V7h2v10zm4 0h-2v-4h2v4z\"/>\n",
              "    </g>\n",
              "</svg>\n",
              "      </button>\n",
              "\n",
              "<style>\n",
              "  .colab-df-quickchart {\n",
              "      --bg-color: #E8F0FE;\n",
              "      --fill-color: #1967D2;\n",
              "      --hover-bg-color: #E2EBFA;\n",
              "      --hover-fill-color: #174EA6;\n",
              "      --disabled-fill-color: #AAA;\n",
              "      --disabled-bg-color: #DDD;\n",
              "  }\n",
              "\n",
              "  [theme=dark] .colab-df-quickchart {\n",
              "      --bg-color: #3B4455;\n",
              "      --fill-color: #D2E3FC;\n",
              "      --hover-bg-color: #434B5C;\n",
              "      --hover-fill-color: #FFFFFF;\n",
              "      --disabled-bg-color: #3B4455;\n",
              "      --disabled-fill-color: #666;\n",
              "  }\n",
              "\n",
              "  .colab-df-quickchart {\n",
              "    background-color: var(--bg-color);\n",
              "    border: none;\n",
              "    border-radius: 50%;\n",
              "    cursor: pointer;\n",
              "    display: none;\n",
              "    fill: var(--fill-color);\n",
              "    height: 32px;\n",
              "    padding: 0;\n",
              "    width: 32px;\n",
              "  }\n",
              "\n",
              "  .colab-df-quickchart:hover {\n",
              "    background-color: var(--hover-bg-color);\n",
              "    box-shadow: 0 1px 2px rgba(60, 64, 67, 0.3), 0 1px 3px 1px rgba(60, 64, 67, 0.15);\n",
              "    fill: var(--button-hover-fill-color);\n",
              "  }\n",
              "\n",
              "  .colab-df-quickchart-complete:disabled,\n",
              "  .colab-df-quickchart-complete:disabled:hover {\n",
              "    background-color: var(--disabled-bg-color);\n",
              "    fill: var(--disabled-fill-color);\n",
              "    box-shadow: none;\n",
              "  }\n",
              "\n",
              "  .colab-df-spinner {\n",
              "    border: 2px solid var(--fill-color);\n",
              "    border-color: transparent;\n",
              "    border-bottom-color: var(--fill-color);\n",
              "    animation:\n",
              "      spin 1s steps(1) infinite;\n",
              "  }\n",
              "\n",
              "  @keyframes spin {\n",
              "    0% {\n",
              "      border-color: transparent;\n",
              "      border-bottom-color: var(--fill-color);\n",
              "      border-left-color: var(--fill-color);\n",
              "    }\n",
              "    20% {\n",
              "      border-color: transparent;\n",
              "      border-left-color: var(--fill-color);\n",
              "      border-top-color: var(--fill-color);\n",
              "    }\n",
              "    30% {\n",
              "      border-color: transparent;\n",
              "      border-left-color: var(--fill-color);\n",
              "      border-top-color: var(--fill-color);\n",
              "      border-right-color: var(--fill-color);\n",
              "    }\n",
              "    40% {\n",
              "      border-color: transparent;\n",
              "      border-right-color: var(--fill-color);\n",
              "      border-top-color: var(--fill-color);\n",
              "    }\n",
              "    60% {\n",
              "      border-color: transparent;\n",
              "      border-right-color: var(--fill-color);\n",
              "    }\n",
              "    80% {\n",
              "      border-color: transparent;\n",
              "      border-right-color: var(--fill-color);\n",
              "      border-bottom-color: var(--fill-color);\n",
              "    }\n",
              "    90% {\n",
              "      border-color: transparent;\n",
              "      border-bottom-color: var(--fill-color);\n",
              "    }\n",
              "  }\n",
              "</style>\n",
              "\n",
              "      <script>\n",
              "        async function quickchart(key) {\n",
              "          const quickchartButtonEl =\n",
              "            document.querySelector('#' + key + ' button');\n",
              "          quickchartButtonEl.disabled = true;  // To prevent multiple clicks.\n",
              "          quickchartButtonEl.classList.add('colab-df-spinner');\n",
              "          try {\n",
              "            const charts = await google.colab.kernel.invokeFunction(\n",
              "                'suggestCharts', [key], {});\n",
              "          } catch (error) {\n",
              "            console.error('Error during call to suggestCharts:', error);\n",
              "          }\n",
              "          quickchartButtonEl.classList.remove('colab-df-spinner');\n",
              "          quickchartButtonEl.classList.add('colab-df-quickchart-complete');\n",
              "        }\n",
              "        (() => {\n",
              "          let quickchartButtonEl =\n",
              "            document.querySelector('#df-9136d9ee-804d-4c69-808e-ff415abc5215 button');\n",
              "          quickchartButtonEl.style.display =\n",
              "            google.colab.kernel.accessAllowed ? 'block' : 'none';\n",
              "        })();\n",
              "      </script>\n",
              "    </div>\n",
              "\n",
              "    </div>\n",
              "  </div>\n"
            ],
            "application/vnd.google.colaboratory.intrinsic+json": {
              "type": "dataframe",
              "variable_name": "movies",
              "summary": "{\n  \"name\": \"movies\",\n  \"rows\": 1000,\n  \"fields\": [\n    {\n      \"column\": \"Poster_Link\",\n      \"properties\": {\n        \"dtype\": \"string\",\n        \"num_unique_values\": 1000,\n        \"samples\": [\n          \"https://m.media-amazon.com/images/M/MV5BMjg5OGU4OGYtNTZmNy00MjQ1LWIzYzgtMTllMGY2NzlkNzYwXkEyXkFqcGdeQXVyMTI3ODAyMzE2._V1_UY98_CR2,0,67,98_AL_.jpg\",\n          \"https://m.media-amazon.com/images/M/MV5BMzA2NDkwODAwM15BMl5BanBnXkFtZTgwODk5MTgzMTE@._V1_UY98_CR0,0,67,98_AL_.jpg\",\n          \"https://m.media-amazon.com/images/M/MV5BNzMxNTExOTkyMF5BMl5BanBnXkFtZTcwMzEyNDc0OA@@._V1_UX67_CR0,0,67,98_AL_.jpg\"\n        ],\n        \"semantic_type\": \"\",\n        \"description\": \"\"\n      }\n    },\n    {\n      \"column\": \"Series_Title\",\n      \"properties\": {\n        \"dtype\": \"string\",\n        \"num_unique_values\": 999,\n        \"samples\": [\n          \"The Best Years of Our Lives\",\n          \"Hedwig and the Angry Inch\",\n          \"Gone Girl\"\n        ],\n        \"semantic_type\": \"\",\n        \"description\": \"\"\n      }\n    },\n    {\n      \"column\": \"Released_Year\",\n      \"properties\": {\n        \"dtype\": \"category\",\n        \"num_unique_values\": 100,\n        \"samples\": [\n          \"1934\",\n          \"1992\",\n          \"1989\"\n        ],\n        \"semantic_type\": \"\",\n        \"description\": \"\"\n      }\n    },\n    {\n      \"column\": \"Certificate\",\n      \"properties\": {\n        \"dtype\": \"category\",\n        \"num_unique_values\": 16,\n        \"samples\": [\n          \"A\",\n          \"UA\",\n          \"PG\"\n        ],\n        \"semantic_type\": \"\",\n        \"description\": \"\"\n      }\n    },\n    {\n      \"column\": \"Runtime\",\n      \"properties\": {\n        \"dtype\": \"category\",\n        \"num_unique_values\": 140,\n        \"samples\": [\n          \"205 min\",\n          \"129 min\",\n          \"112 min\"\n        ],\n        \"semantic_type\": \"\",\n        \"description\": \"\"\n      }\n    },\n    {\n      \"column\": \"Genre\",\n      \"properties\": {\n        \"dtype\": \"category\",\n        \"num_unique_values\": 202,\n        \"samples\": [\n          \"Comedy, Drama, Fantasy\",\n          \"Crime, Drama, Fantasy\",\n          \"Drama, Romance, War\"\n        ],\n        \"semantic_type\": \"\",\n        \"description\": \"\"\n      }\n    },\n    {\n      \"column\": \"IMDB_Rating\",\n      \"properties\": {\n        \"dtype\": \"number\",\n        \"std\": 0.27549120749200917,\n        \"min\": 7.6,\n        \"max\": 9.3,\n        \"num_unique_values\": 17,\n        \"samples\": [\n          9.3,\n          9.2,\n          8.7\n        ],\n        \"semantic_type\": \"\",\n        \"description\": \"\"\n      }\n    },\n    {\n      \"column\": \"Overview\",\n      \"properties\": {\n        \"dtype\": \"string\",\n        \"num_unique_values\": 1000,\n        \"samples\": [\n          \"A woman struggles to find a way to live her life after the death of her husband and child.\",\n          \"As Steve Rogers struggles to embrace his role in the modern world, he teams up with a fellow Avenger and S.H.I.E.L.D agent, Black Widow, to battle a new threat from history: an assassin known as the Winter Soldier.\",\n          \"A video game villain wants to be a hero and sets out to fulfill his dream, but his quest brings havoc to the whole arcade where he lives.\"\n        ],\n        \"semantic_type\": \"\",\n        \"description\": \"\"\n      }\n    },\n    {\n      \"column\": \"Meta_score\",\n      \"properties\": {\n        \"dtype\": \"number\",\n        \"std\": 12.376099328602022,\n        \"min\": 28.0,\n        \"max\": 100.0,\n        \"num_unique_values\": 63,\n        \"samples\": [\n          30.0,\n          52.0,\n          80.0\n        ],\n        \"semantic_type\": \"\",\n        \"description\": \"\"\n      }\n    },\n    {\n      \"column\": \"Director\",\n      \"properties\": {\n        \"dtype\": \"string\",\n        \"num_unique_values\": 548,\n        \"samples\": [\n          \"Satoshi Kon\",\n          \"David Lean\",\n          \"Yilmaz Erdogan\"\n        ],\n        \"semantic_type\": \"\",\n        \"description\": \"\"\n      }\n    },\n    {\n      \"column\": \"Star1\",\n      \"properties\": {\n        \"dtype\": \"string\",\n        \"num_unique_values\": 660,\n        \"samples\": [\n          \"Peter Dinklage\",\n          \"Josh O'Connor\",\n          \"Terry Jones\"\n        ],\n        \"semantic_type\": \"\",\n        \"description\": \"\"\n      }\n    },\n    {\n      \"column\": \"Star2\",\n      \"properties\": {\n        \"dtype\": \"string\",\n        \"num_unique_values\": 841,\n        \"samples\": [\n          \"Ruy Guerra\",\n          \"Meg Ryan\",\n          \"Donna Reed\"\n        ],\n        \"semantic_type\": \"\",\n        \"description\": \"\"\n      }\n    },\n    {\n      \"column\": \"Star3\",\n      \"properties\": {\n        \"dtype\": \"string\",\n        \"num_unique_values\": 891,\n        \"samples\": [\n          \"Giovanni Ribisi\",\n          \"Julia Greer\",\n          \"Naomi Watts\"\n        ],\n        \"semantic_type\": \"\",\n        \"description\": \"\"\n      }\n    },\n    {\n      \"column\": \"Star4\",\n      \"properties\": {\n        \"dtype\": \"string\",\n        \"num_unique_values\": 939,\n        \"samples\": [\n          \"Trevor Howard\",\n          \"Ulrich Tukur\",\n          \"Hemendra Dandotiya\"\n        ],\n        \"semantic_type\": \"\",\n        \"description\": \"\"\n      }\n    },\n    {\n      \"column\": \"No_of_Votes\",\n      \"properties\": {\n        \"dtype\": \"number\",\n        \"std\": 327372,\n        \"min\": 25088,\n        \"max\": 2343110,\n        \"num_unique_values\": 999,\n        \"samples\": [\n          42725,\n          31957,\n          707630\n        ],\n        \"semantic_type\": \"\",\n        \"description\": \"\"\n      }\n    },\n    {\n      \"column\": \"Gross\",\n      \"properties\": {\n        \"dtype\": \"string\",\n        \"num_unique_values\": 823,\n        \"samples\": [\n          \"132,092,958\",\n          \"67,209,615\",\n          \"78,900,000\"\n        ],\n        \"semantic_type\": \"\",\n        \"description\": \"\"\n      }\n    }\n  ]\n}"
            }
          },
          "metadata": {},
          "execution_count": 2
        }
      ]
    },
    {
      "cell_type": "code",
      "source": [
        "movies.shape"
      ],
      "metadata": {
        "colab": {
          "base_uri": "https://localhost:8080/"
        },
        "id": "UCOAngehN4AN",
        "outputId": "884ad9f7-0d4d-4b58-95ea-fb4f97f0a7c2"
      },
      "execution_count": null,
      "outputs": [
        {
          "output_type": "execute_result",
          "data": {
            "text/plain": [
              "(1000, 16)"
            ]
          },
          "metadata": {},
          "execution_count": 3
        }
      ]
    },
    {
      "cell_type": "code",
      "source": [
        "selected_features = ['Genre','Meta_score','Certificate', 'Star1', 'Star2','IMDB_Rating','Director', 'Series_Title']\n",
        "print(selected_features)"
      ],
      "metadata": {
        "colab": {
          "base_uri": "https://localhost:8080/"
        },
        "id": "vsDaXieZOA_I",
        "outputId": "05f27e54-f99f-471a-dd5c-643679818131"
      },
      "execution_count": null,
      "outputs": [
        {
          "output_type": "stream",
          "name": "stdout",
          "text": [
            "['Genre', 'Meta_score', 'Certificate', 'Star1', 'Star2', 'IMDB_Rating', 'Director', 'Series_Title']\n"
          ]
        }
      ]
    },
    {
      "cell_type": "code",
      "source": [
        "for feature in selected_features:\n",
        "    movies[feature] = movies[feature].fillna('')"
      ],
      "metadata": {
        "id": "U8d0JXOeSDsm"
      },
      "execution_count": null,
      "outputs": []
    },
    {
      "cell_type": "code",
      "source": [
        "#combining all the features\n",
        "\n",
        "combined_features = (\n",
        "    movies['Genre'].astype(str) + ' ' +\n",
        "    movies['Meta_score'].astype(str) + ' ' +\n",
        "    movies['Certificate'].astype(str) + ' ' +\n",
        "    movies['Star1'].astype(str) + ' ' +\n",
        "    movies['Star2'].astype(str) + ' ' +\n",
        "    movies['Director'].astype(str) + ' ' +\n",
        "    movies['Series_Title'].astype(str)\n",
        ")\n",
        "print(combined_features)"
      ],
      "metadata": {
        "colab": {
          "base_uri": "https://localhost:8080/"
        },
        "id": "4bcRSF5vSbb9",
        "outputId": "6c989288-a59e-44d0-d7e7-50d6e53757aa"
      },
      "execution_count": null,
      "outputs": [
        {
          "output_type": "stream",
          "name": "stdout",
          "text": [
            "0      Drama 80.0 A Tim Robbins Morgan Freeman Frank ...\n",
            "1      Crime, Drama 100.0 A Marlon Brando Al Pacino F...\n",
            "2      Action, Crime, Drama 84.0 UA Christian Bale He...\n",
            "3      Crime, Drama 90.0 A Al Pacino Robert De Niro F...\n",
            "4      Crime, Drama 96.0 U Henry Fonda Lee J. Cobb Si...\n",
            "                             ...                        \n",
            "995    Comedy, Drama, Romance 76.0 A Audrey Hepburn G...\n",
            "996    Drama, Western 84.0 G Elizabeth Taylor Rock Hu...\n",
            "997    Drama, Romance, War 85.0 Passed Burt Lancaster...\n",
            "998    Drama, War 78.0  Tallulah Bankhead John Hodiak...\n",
            "999    Crime, Mystery, Thriller 93.0  Robert Donat Ma...\n",
            "Length: 1000, dtype: object\n"
          ]
        }
      ]
    },
    {
      "cell_type": "code",
      "source": [
        "#converting text into numbers\n",
        "\n",
        "vectorizer = TfidfVectorizer()\n",
        "\n",
        "featured_vector = vectorizer.fit_transform(combined_features)\n",
        "print(featured_vector)"
      ],
      "metadata": {
        "colab": {
          "base_uri": "https://localhost:8080/"
        },
        "id": "gkJbjVp_TDKq",
        "outputId": "9027c25f-451e-4c5a-bb8c-dda1095caa98"
      },
      "execution_count": null,
      "outputs": [
        {
          "output_type": "stream",
          "name": "stdout",
          "text": [
            "<Compressed Sparse Row sparse matrix of dtype 'float64'\n",
            "\twith 12552 stored elements and shape (1000, 4304)>\n",
            "  Coords\tValues\n",
            "  (0, 1094)\t0.06931133208802676\n",
            "  (0, 59)\t0.23983883481901674\n",
            "  (0, 3828)\t0.28424235267179876\n",
            "  (0, 3233)\t0.3568925377968593\n",
            "  (0, 2658)\t0.3418162622186342\n",
            "  (0, 1382)\t0.32056744523432906\n",
            "  (0, 1368)\t0.28424235267179876\n",
            "  (0, 933)\t0.3568925377968593\n",
            "  (0, 3801)\t0.12552953010835474\n",
            "  (0, 3471)\t0.37814135478116445\n",
            "  (0, 3160)\t0.37814135478116445\n",
            "  (1, 1094)\t0.07496748275382421\n",
            "  (1, 3801)\t0.13577336634566556\n",
            "  (1, 877)\t0.14520088936486503\n",
            "  (1, 1)\t0.30290091669361774\n",
            "  (1, 2468)\t0.35706181323869746\n",
            "  (1, 537)\t0.35706181323869746\n",
            "  (1, 141)\t0.29478958529275356\n",
            "  (1, 2898)\t0.2987002823277278\n",
            "  (1, 1366)\t0.3304207739587761\n",
            "  (1, 1351)\t0.2681485460128322\n",
            "  (1, 846)\t0.3379896837600078\n",
            "  (1, 1511)\t0.3697101753910562\n",
            "  (2, 1094)\t0.07281376558232\n",
            "  (2, 3801)\t0.13187277611920933\n",
            "  :\t:\n",
            "  (997, 1711)\t0.32387551511465096\n",
            "  (997, 1228)\t0.32387551511465096\n",
            "  (998, 1094)\t0.07456955135301373\n",
            "  (998, 1974)\t0.21142432927444446\n",
            "  (998, 4069)\t0.2189530628983633\n",
            "  (998, 159)\t0.28958603165824565\n",
            "  (998, 1743)\t0.29322482643583564\n",
            "  (998, 57)\t0.2644235837166755\n",
            "  (998, 3747)\t0.4068285852339474\n",
            "  (998, 356)\t0.4068285852339474\n",
            "  (998, 1748)\t0.4068285852339474\n",
            "  (998, 2293)\t0.4068285852339474\n",
            "  (999, 3801)\t0.1239912956609613\n",
            "  (999, 877)\t0.13260072198282252\n",
            "  (999, 3234)\t0.20386999802123398\n",
            "  (999, 3822)\t0.15433397314729524\n",
            "  (999, 2704)\t0.1710062548410206\n",
            "  (999, 159)\t0.26586772545075543\n",
            "  (999, 1743)\t0.269208487729102\n",
            "  (999, 73)\t0.269208487729102\n",
            "  (999, 2393)\t0.3376276577622157\n",
            "  (999, 671)\t0.35251918918969954\n",
            "  (999, 1064)\t0.37350762391794584\n",
            "  (999, 19)\t0.37350762391794584\n",
            "  (999, 3651)\t0.37350762391794584\n"
          ]
        }
      ]
    },
    {
      "cell_type": "code",
      "source": [
        "#obtaining the similarity matrix\n",
        "\n",
        "similarity = cosine_similarity(featured_vector)\n",
        "print(similarity)"
      ],
      "metadata": {
        "colab": {
          "base_uri": "https://localhost:8080/"
        },
        "id": "dekOtwPpTZZX",
        "outputId": "f0f732a8-0c1f-4e53-f79b-ca096f50b9bb"
      },
      "execution_count": null,
      "outputs": [
        {
          "output_type": "stream",
          "name": "stdout",
          "text": [
            "[[1.         0.02223966 0.02160075 ... 0.00411465 0.00516851 0.01556457]\n",
            " [0.02223966 1.         0.04384108 ... 0.00445042 0.00559029 0.03608846]\n",
            " [0.02160075 0.04384108 1.         ... 0.00432257 0.00542969 0.03505168]\n",
            " ...\n",
            " [0.00411465 0.00445042 0.00432257 ... 1.         0.0425921  0.        ]\n",
            " [0.00516851 0.00559029 0.00542969 ... 0.0425921  1.         0.15593019]\n",
            " [0.01556457 0.03608846 0.03505168 ... 0.         0.15593019 1.        ]]\n"
          ]
        }
      ]
    },
    {
      "cell_type": "code",
      "source": [
        "#getting input from the user\n",
        "\n",
        "movie_name = input(\"Enter your Favourite movie: \")"
      ],
      "metadata": {
        "colab": {
          "base_uri": "https://localhost:8080/"
        },
        "id": "JECS7KU0TkjS",
        "outputId": "a31a147e-fe78-4cf0-cd9b-8cbe79608c75"
      },
      "execution_count": null,
      "outputs": [
        {
          "name": "stdout",
          "output_type": "stream",
          "text": [
            "Enter your Favourite movie: Godfather\n"
          ]
        }
      ]
    },
    {
      "cell_type": "code",
      "source": [
        "#creating the list of all movie titles\n",
        "\n",
        "list_of_movies = movies['Series_Title'].tolist()"
      ],
      "metadata": {
        "id": "VOvwl4HeTrlk"
      },
      "execution_count": null,
      "outputs": []
    },
    {
      "cell_type": "code",
      "source": [
        "#finding the closest match for the movie inputed\n",
        "\n",
        "find_close_match = difflib.get_close_matches(movie_name,list_of_movies)\n",
        "# Print result\n",
        "if find_close_match:\n",
        "    close_match = find_close_match[0]\n",
        "    print(\"Best match found:\", close_match)\n",
        "else:\n",
        "    print(\"No close match found.\")"
      ],
      "metadata": {
        "colab": {
          "base_uri": "https://localhost:8080/"
        },
        "id": "2XF9KwbfTyBK",
        "outputId": "46937bc7-bfc4-448b-83cd-b8ed8d80ed84"
      },
      "execution_count": null,
      "outputs": [
        {
          "output_type": "stream",
          "name": "stdout",
          "text": [
            "Best match found: The Godfather\n"
          ]
        }
      ]
    },
    {
      "cell_type": "code",
      "source": [
        "if find_close_match:\n",
        "    index = movies[movies['Series_Title'] == close_match].index[0]\n",
        "    print(\"Index of the movie:\", index)"
      ],
      "metadata": {
        "colab": {
          "base_uri": "https://localhost:8080/"
        },
        "id": "nTiJHKEgT3Wh",
        "outputId": "326e40c7-a1fd-4b59-c868-50b470f032b0"
      },
      "execution_count": null,
      "outputs": [
        {
          "output_type": "stream",
          "name": "stdout",
          "text": [
            "Index of the movie: 1\n"
          ]
        }
      ]
    },
    {
      "cell_type": "code",
      "source": [
        "#getting the similarity list of the movie\n",
        "\n",
        "similar_list = list(enumerate(similarity[index]))\n",
        "print(similar_list)"
      ],
      "metadata": {
        "colab": {
          "base_uri": "https://localhost:8080/"
        },
        "id": "hn4SvHnSVENI",
        "outputId": "e0d8b22d-ef85-4404-c0d7-1fcd19105887"
      },
      "execution_count": null,
      "outputs": [
        {
          "output_type": "stream",
          "name": "stdout",
          "text": [
            "[(0, np.float64(0.022239662971554632)), (1, np.float64(1.0000000000000002)), (2, np.float64(0.04384107830335568)), (3, np.float64(0.6061208580244626)), (4, np.float64(0.024467961530824207)), (5, np.float64(0.059730727101695254)), (6, np.float64(0.02538365297381633)), (7, np.float64(0.005031832346859463)), (8, np.float64(0.0)), (9, np.float64(0.005717439614127184)), (10, np.float64(0.05846517026351691)), (11, np.float64(0.005615164213801546)), (12, np.float64(0.0)), (13, np.float64(0.04880358363914086)), (14, np.float64(0.014208908157203751)), (15, np.float64(0.027597288224914168)), (16, np.float64(0.06806352051767815)), (17, np.float64(0.018430219089666338)), (18, np.float64(0.004672727105883763)), (19, np.float64(0.0044103961358945894)), (20, np.float64(0.005680925113415512)), (21, np.float64(0.005475868639866741)), (22, np.float64(0.02197091896790174)), (23, np.float64(0.0)), (24, np.float64(0.0054126648637491045)), (25, np.float64(0.040638345431744334)), (26, np.float64(0.0037630685741489723)), (27, np.float64(0.02780312168307387)), (28, np.float64(0.05536899357447993)), (29, np.float64(0.07022761285061152)), (30, np.float64(0.0052791629495124864)), (31, np.float64(0.005044916605596283)), (32, np.float64(0.004892550404008709)), (33, np.float64(0.026225852621089035)), (34, np.float64(0.005445775994785388)), (35, np.float64(0.021196364012761076)), (36, np.float64(0.023879760791012835)), (37, np.float64(0.048582574889917546)), (38, np.float64(0.022579048137931906)), (39, np.float64(0.0057163153509685915)), (40, np.float64(0.005148528357189313)), (41, np.float64(0.03499212136971217)), (42, np.float64(0.026100627826164714)), (43, np.float64(0.02200958742710732)), (44, np.float64(0.0)), (45, np.float64(0.004558348166906527)), (46, np.float64(0.0045889453876815905)), (47, np.float64(0.017190143927601594)), (48, np.float64(0.015171342205351558)), (49, np.float64(0.0)), (50, np.float64(0.09782608251547023)), (51, np.float64(0.0044159229610926725)), (52, np.float64(0.004407789267214086)), (53, np.float64(0.08002492366045805)), (54, np.float64(0.01851497340896522)), (55, np.float64(0.028776747048359287)), (56, np.float64(0.004335880900005354)), (57, np.float64(0.005505312230766048)), (58, np.float64(0.012810217172747614)), (59, np.float64(0.004786023558913864)), (60, np.float64(0.0)), (61, np.float64(0.0)), (62, np.float64(0.005004079673084326)), (63, np.float64(0.01744250742635347)), (64, np.float64(0.006030739729008784)), (65, np.float64(0.004740689774593755)), (66, np.float64(0.0)), (67, np.float64(0.0182900055376074)), (68, np.float64(0.004505482551056956)), (69, np.float64(0.0)), (70, np.float64(0.0)), (71, np.float64(0.02409949261009229)), (72, np.float64(0.08128958812010122)), (73, np.float64(0.023846214493317648)), (74, np.float64(0.49783040541525003)), (75, np.float64(0.0)), (76, np.float64(0.005178050458371694)), (77, np.float64(0.024408874263890736)), (78, np.float64(0.012382152017127376)), (79, np.float64(0.03850718157451034)), (80, np.float64(0.005136838071919451)), (81, np.float64(0.09009891956490725)), (82, np.float64(0.005070727372751977)), (83, np.float64(0.01900450252896328)), (84, np.float64(0.005400687043152548)), (85, np.float64(0.004726378271758183)), (86, np.float64(0.02625610551999183)), (87, np.float64(0.029895269123995285)), (88, np.float64(0.004976245643981663)), (89, np.float64(0.004226701099576611)), (90, np.float64(0.004748928392720609)), (91, np.float64(0.003748649071313653)), (92, np.float64(0.004554605369442131)), (93, np.float64(0.005251285844905537)), (94, np.float64(0.018366643956376747)), (95, np.float64(0.0)), (96, np.float64(0.020508353008559452)), (97, np.float64(0.004820101955321819)), (98, np.float64(0.005293711869898193)), (99, np.float64(0.004778552499659738)), (100, np.float64(0.003617939425587529)), (101, np.float64(0.0)), (102, np.float64(0.004522167683920695)), (103, np.float64(0.02467263337648465)), (104, np.float64(0.004940761158360942)), (105, np.float64(0.00476643866920255)), (106, np.float64(0.0)), (107, np.float64(0.005361960201601347)), (108, np.float64(0.20281500998122953)), (109, np.float64(0.06839108069193134)), (110, np.float64(0.004795972881693374)), (111, np.float64(0.026000492281313917)), (112, np.float64(0.045855187261527444)), (113, np.float64(0.023460397773410163)), (114, np.float64(0.0)), (115, np.float64(0.0)), (116, np.float64(0.0902490315972375)), (117, np.float64(0.023847280361060656)), (118, np.float64(0.0)), (119, np.float64(0.09481386684668341)), (120, np.float64(0.014040946954248146)), (121, np.float64(0.0056872533298471944)), (122, np.float64(0.004571019723001227)), (123, np.float64(0.02213778510200234)), (124, np.float64(0.07231385977768877)), (125, np.float64(0.01568162281350796)), (126, np.float64(0.005072270555362869)), (127, np.float64(0.01983384302722599)), (128, np.float64(0.0052279344283780475)), (129, np.float64(0.019562262428460216)), (130, np.float64(0.0055658035592243875)), (131, np.float64(0.005076309009763675)), (132, np.float64(0.020176768298149995)), (133, np.float64(0.02451888559885298)), (134, np.float64(0.024036445363138762)), (135, np.float64(0.0)), (136, np.float64(0.023994395237761458)), (137, np.float64(0.005080124306068995)), (138, np.float64(0.004943775932866769)), (139, np.float64(0.0040392386272661285)), (140, np.float64(0.017362865031409453)), (141, np.float64(0.005257798199069681)), (142, np.float64(0.01790906182452575)), (143, np.float64(0.004054914701324227)), (144, np.float64(0.005186082090174067)), (145, np.float64(0.0)), (146, np.float64(0.0)), (147, np.float64(0.03976962656042397)), (148, np.float64(0.0045421948432117845)), (149, np.float64(0.004540312421014513)), (150, np.float64(0.004373808683908614)), (151, np.float64(0.0)), (152, np.float64(0.004913213155027508)), (153, np.float64(0.02106667244075316)), (154, np.float64(0.005104369541343317)), (155, np.float64(0.0)), (156, np.float64(0.020397121487607986)), (157, np.float64(0.004624860099074243)), (158, np.float64(0.0)), (159, np.float64(0.005472014027547651)), (160, np.float64(0.01995953299719009)), (161, np.float64(0.015584557371474357)), (162, np.float64(0.026865980788029126)), (163, np.float64(0.024421247029232138)), (164, np.float64(0.22507383298088285)), (165, np.float64(0.028506227743106457)), (166, np.float64(0.0)), (167, np.float64(0.0051202247412831655)), (168, np.float64(0.07871364067480241)), (169, np.float64(0.02200884256034032)), (170, np.float64(0.0)), (171, np.float64(0.0)), (172, np.float64(0.005137131149669765)), (173, np.float64(0.005066358711865045)), (174, np.float64(0.005237035238665138)), (175, np.float64(0.005228531162158314)), (176, np.float64(0.02195929527638097)), (177, np.float64(0.0)), (178, np.float64(0.013319057766927683)), (179, np.float64(0.02324550250216264)), (180, np.float64(0.024830354308966743)), (181, np.float64(0.0057297565055605855)), (182, np.float64(0.004862306788994121)), (183, np.float64(0.0)), (184, np.float64(0.005426740995812226)), (185, np.float64(0.0044939294284529665)), (186, np.float64(0.020091496978911685)), (187, np.float64(0.01915323898533409)), (188, np.float64(0.004950065478069636)), (189, np.float64(0.025840520224908705)), (190, np.float64(0.00478400104519776)), (191, np.float64(0.032559712534258475)), (192, np.float64(0.0)), (193, np.float64(0.01915171020380293)), (194, np.float64(0.0)), (195, np.float64(0.003931970888619094)), (196, np.float64(0.005008886561133322)), (197, np.float64(0.004282080498647552)), (198, np.float64(0.022152357139448502)), (199, np.float64(0.00419212168235467)), (200, np.float64(0.004945540708344143)), (201, np.float64(0.027170640450291484)), (202, np.float64(0.005695547770269674)), (203, np.float64(0.005178491876199599)), (204, np.float64(0.004651034597891361)), (205, np.float64(0.0)), (206, np.float64(0.004549817102044995)), (207, np.float64(0.005563215125091758)), (208, np.float64(0.004556131188803873)), (209, np.float64(0.03346630310466134)), (210, np.float64(0.005286064933756649)), (211, np.float64(0.004110676258809073)), (212, np.float64(0.0051433385253173165)), (213, np.float64(0.0)), (214, np.float64(0.005397176121366617)), (215, np.float64(0.004610472548555166)), (216, np.float64(0.005920245209495844)), (217, np.float64(0.07983316971651211)), (218, np.float64(0.028027518941260984)), (219, np.float64(0.021507823428474813)), (220, np.float64(0.0)), (221, np.float64(0.004228823685198907)), (222, np.float64(0.02634341985375705)), (223, np.float64(0.0)), (224, np.float64(0.02581154715538252)), (225, np.float64(0.00471614251402879)), (226, np.float64(0.019954039033009345)), (227, np.float64(0.004744058594963582)), (228, np.float64(0.004985893872690006)), (229, np.float64(0.00484976191590293)), (230, np.float64(0.0)), (231, np.float64(0.02168934969772237)), (232, np.float64(0.020865726515635088)), (233, np.float64(0.004559580215368302)), (234, np.float64(0.004400781227681122)), (235, np.float64(0.004895388901158632)), (236, np.float64(0.00429728420864086)), (237, np.float64(0.0056660094508716565)), (238, np.float64(0.005056575730083918)), (239, np.float64(0.019372290276161254)), (240, np.float64(0.004353270822371905)), (241, np.float64(0.024689931548921865)), (242, np.float64(0.0)), (243, np.float64(0.022475856146410185)), (244, np.float64(0.0047551672076377935)), (245, np.float64(0.0)), (246, np.float64(0.0034630030840307907)), (247, np.float64(0.004262054770268462)), (248, np.float64(0.020352027444396906)), (249, np.float64(0.004006670238462902)), (250, np.float64(0.022740435230340385)), (251, np.float64(0.015300777939514421)), (252, np.float64(0.034149279012725325)), (253, np.float64(0.0038114550976182464)), (254, np.float64(0.00538807400478196)), (255, np.float64(0.02494889818941163)), (256, np.float64(0.004869245660270465)), (257, np.float64(0.0242338085058309)), (258, np.float64(0.004802461713830591)), (259, np.float64(0.00565714024410557)), (260, np.float64(0.0806459328966345)), (261, np.float64(0.020460548600980635)), (262, np.float64(0.0)), (263, np.float64(0.05358315604878676)), (264, np.float64(0.004372480172190606)), (265, np.float64(0.004129290228694347)), (266, np.float64(0.004984692766393947)), (267, np.float64(0.004944988191421551)), (268, np.float64(0.005552533469083267)), (269, np.float64(0.004858673706931486)), (270, np.float64(0.0)), (271, np.float64(0.0166059253795248)), (272, np.float64(0.019214947487315392)), (273, np.float64(0.0054092594362664115)), (274, np.float64(0.08208181892812674)), (275, np.float64(0.06510670110766621)), (276, np.float64(0.024255213135418965)), (277, np.float64(0.0)), (278, np.float64(0.02316288788643686)), (279, np.float64(0.005232577166482983)), (280, np.float64(0.005741697130206223)), (281, np.float64(0.00516247860823186)), (282, np.float64(0.005321137686966039)), (283, np.float64(0.0054804983385947)), (284, np.float64(0.022078570098129482)), (285, np.float64(0.004973979261433449)), (286, np.float64(0.004911954098572751)), (287, np.float64(0.02264732468504927)), (288, np.float64(0.023203278240004753)), (289, np.float64(0.005516348239641598)), (290, np.float64(0.0045992791458414495)), (291, np.float64(0.004623260637460326)), (292, np.float64(0.004660433684599418)), (293, np.float64(0.0042812237976711685)), (294, np.float64(0.02253244030018729)), (295, np.float64(0.08149393485487272)), (296, np.float64(0.0049325956916181826)), (297, np.float64(0.005437516719311463)), (298, np.float64(0.020674081807043502)), (299, np.float64(0.02160456418470065)), (300, np.float64(0.005337014909651986)), (301, np.float64(0.004606663746237223)), (302, np.float64(0.004815863945402098)), (303, np.float64(0.005297204063629089)), (304, np.float64(0.03548188777222431)), (305, np.float64(0.2695818605756022)), (306, np.float64(0.004288621931782032)), (307, np.float64(0.01993773970192853)), (308, np.float64(0.024764161642622642)), (309, np.float64(0.015326113451632753)), (310, np.float64(0.021553201459566414)), (311, np.float64(0.03517700036250226)), (312, np.float64(0.005356150895064166)), (313, np.float64(0.004867200522324608)), (314, np.float64(0.021409166809602486)), (315, np.float64(0.004782897981088289)), (316, np.float64(0.0)), (317, np.float64(0.004108714787356111)), (318, np.float64(0.014987485727971922)), (319, np.float64(0.004764273768469531)), (320, np.float64(0.014384222382058384)), (321, np.float64(0.0)), (322, np.float64(0.004780213351242205)), (323, np.float64(0.005216915035610746)), (324, np.float64(0.005330521998834859)), (325, np.float64(0.0)), (326, np.float64(0.021480282689919854)), (327, np.float64(0.004886636075815901)), (328, np.float64(0.005384826981320313)), (329, np.float64(0.023165480017995777)), (330, np.float64(0.0)), (331, np.float64(0.024036445363138762)), (332, np.float64(0.004648992021686131)), (333, np.float64(0.005402925889522447)), (334, np.float64(0.004425047142947146)), (335, np.float64(0.02436279923842072)), (336, np.float64(0.004557123570416369)), (337, np.float64(0.017266541377440804)), (338, np.float64(0.02007435968861375)), (339, np.float64(0.016464017260108293)), (340, np.float64(0.06924503365460172)), (341, np.float64(0.005410501057084368)), (342, np.float64(0.004559416341335271)), (343, np.float64(0.025173306723093206)), (344, np.float64(0.0199634671474783)), (345, np.float64(0.019345260731698892)), (346, np.float64(0.022143571042354534)), (347, np.float64(0.02358294608386799)), (348, np.float64(0.0)), (349, np.float64(0.004594223509564705)), (350, np.float64(0.0053808570446364345)), (351, np.float64(0.004376605387700853)), (352, np.float64(0.0045237222487023825)), (353, np.float64(0.004568144946344934)), (354, np.float64(0.004895764272899182)), (355, np.float64(0.004939662508533703)), (356, np.float64(0.021999335473421113)), (357, np.float64(0.01733899679646112)), (358, np.float64(0.0048445643620198455)), (359, np.float64(0.004758044692863565)), (360, np.float64(0.020515616350490744)), (361, np.float64(0.005143393688305033)), (362, np.float64(0.016845334600018184)), (363, np.float64(0.022181182598134657)), (364, np.float64(0.020592002318783508)), (365, np.float64(0.004019625590108293)), (366, np.float64(0.0)), (367, np.float64(0.0)), (368, np.float64(0.0)), (369, np.float64(0.019413554213069763)), (370, np.float64(0.005272943047205941)), (371, np.float64(0.003008745399577795)), (372, np.float64(0.004916130411772114)), (373, np.float64(0.005252135755300445)), (374, np.float64(0.004014235348232621)), (375, np.float64(0.02032300588664361)), (376, np.float64(0.03802550990242878)), (377, np.float64(0.005014298306818504)), (378, np.float64(0.018303212789031447)), (379, np.float64(0.003848853479076798)), (380, np.float64(0.02442568989678632)), (381, np.float64(0.004210042449279009)), (382, np.float64(0.005050592203290228)), (383, np.float64(0.005786887626710333)), (384, np.float64(0.03808111457005606)), (385, np.float64(0.02311198900682971)), (386, np.float64(0.01799734695394581)), (387, np.float64(0.005409562742051158)), (388, np.float64(0.004549625985881589)), (389, np.float64(0.01559825452071936)), (390, np.float64(0.0161531288011218)), (391, np.float64(0.003842416128524577)), (392, np.float64(0.004958112413373154)), (393, np.float64(0.0)), (394, np.float64(0.01745466303139746)), (395, np.float64(0.015520648896380742)), (396, np.float64(0.0)), (397, np.float64(0.021912728156052025)), (398, np.float64(0.16785006179841877)), (399, np.float64(0.0)), (400, np.float64(0.005560973204209183)), (401, np.float64(0.015252439713967178)), (402, np.float64(0.004180230797719136)), (403, np.float64(0.021383356561235835)), (404, np.float64(0.005738474878229069)), (405, np.float64(0.0)), (406, np.float64(0.01631986905772624)), (407, np.float64(0.004320270040344765)), (408, np.float64(0.004377009589833119)), (409, np.float64(0.004561769324106955)), (410, np.float64(0.017787193198178078)), (411, np.float64(0.0056022130256054535)), (412, np.float64(0.0054040646632176875)), (413, np.float64(0.00507512684982071)), (414, np.float64(0.0)), (415, np.float64(0.0)), (416, np.float64(0.1908056398161994)), (417, np.float64(0.0)), (418, np.float64(0.0262545675395427)), (419, np.float64(0.01690653716208596)), (420, np.float64(0.0)), (421, np.float64(0.02073249921909809)), (422, np.float64(0.020144280961381322)), (423, np.float64(0.08286110734566682)), (424, np.float64(0.03586617826792949)), (425, np.float64(0.005352790632776415)), (426, np.float64(0.015579839702916041)), (427, np.float64(0.02355596960383204)), (428, np.float64(0.004783604058442126)), (429, np.float64(0.022723035967240117)), (430, np.float64(0.0049851108349666)), (431, np.float64(0.004191729574570337)), (432, np.float64(0.005331626062952191)), (433, np.float64(0.003981317494439637)), (434, np.float64(0.023418947136247283)), (435, np.float64(0.004804460376875962)), (436, np.float64(0.005316859024088041)), (437, np.float64(0.024540860546894843)), (438, np.float64(0.01840700655912506)), (439, np.float64(0.004801990392035983)), (440, np.float64(0.0762982123000251)), (441, np.float64(0.03902072419971319)), (442, np.float64(0.05353215900670898)), (443, np.float64(0.005560683869552549)), (444, np.float64(0.020296303846513562)), (445, np.float64(0.005457009068678106)), (446, np.float64(0.0)), (447, np.float64(0.21954133028937042)), (448, np.float64(0.004821219777500572)), (449, np.float64(0.017996870693869346)), (450, np.float64(0.029357627262451783)), (451, np.float64(0.03996112714618212)), (452, np.float64(0.005196139926404054)), (453, np.float64(0.005161610778358188)), (454, np.float64(0.01832288321454935)), (455, np.float64(0.018100732374029396)), (456, np.float64(0.016478897468544175)), (457, np.float64(0.08759067005436431)), (458, np.float64(0.015628355543376368)), (459, np.float64(0.004663726474534349)), (460, np.float64(0.03438594784535677)), (461, np.float64(0.01870796590702603)), (462, np.float64(0.004627201734354535)), (463, np.float64(0.025385148494177757)), (464, np.float64(0.004693197132077424)), (465, np.float64(0.022161854916096665)), (466, np.float64(0.0049724517397088525)), (467, np.float64(0.004169875527282896)), (468, np.float64(0.005134242072160034)), (469, np.float64(0.0)), (470, np.float64(0.020639589480901506)), (471, np.float64(0.005408529897501193)), (472, np.float64(0.004509683584868367)), (473, np.float64(0.0)), (474, np.float64(0.02573538918978179)), (475, np.float64(0.004633588965631309)), (476, np.float64(0.005294784549451743)), (477, np.float64(0.014078493602431113)), (478, np.float64(0.005697295749383663)), (479, np.float64(0.0)), (480, np.float64(0.01982480910728162)), (481, np.float64(0.022286647594522563)), (482, np.float64(0.0)), (483, np.float64(0.005355625439915535)), (484, np.float64(0.2385846235697268)), (485, np.float64(0.023440672066750292)), (486, np.float64(0.005420787107587376)), (487, np.float64(0.019442995539378338)), (488, np.float64(0.0)), (489, np.float64(0.021720733404847453)), (490, np.float64(0.0045877376759689715)), (491, np.float64(0.09591025804634604)), (492, np.float64(0.004318318258891167)), (493, np.float64(0.0)), (494, np.float64(0.025035768445421457)), (495, np.float64(0.02267705836358375)), (496, np.float64(0.0045370053286278265)), (497, np.float64(0.02204841062842268)), (498, np.float64(0.00522655830729427)), (499, np.float64(0.0)), (500, np.float64(0.004764452271173089)), (501, np.float64(0.004577491625779458)), (502, np.float64(0.0)), (503, np.float64(0.016263845708757496)), (504, np.float64(0.004534993158633729)), (505, np.float64(0.026420566474055704)), (506, np.float64(0.015263260057914002)), (507, np.float64(0.0)), (508, np.float64(0.004538000925567783)), (509, np.float64(0.004714579236118585)), (510, np.float64(0.014914801871771308)), (511, np.float64(0.016347787087038306)), (512, np.float64(0.022375475816897257)), (513, np.float64(0.005109308226312863)), (514, np.float64(0.005152972479295371)), (515, np.float64(0.005146737328706837)), (516, np.float64(0.0)), (517, np.float64(0.0052720168624576305)), (518, np.float64(0.0043873771138620106)), (519, np.float64(0.022772369571510027)), (520, np.float64(0.02576105040945297)), (521, np.float64(0.004595643744131525)), (522, np.float64(0.0)), (523, np.float64(0.19005334565085147)), (524, np.float64(0.00529060025191305)), (525, np.float64(0.017537423311626454)), (526, np.float64(0.004522201157337389)), (527, np.float64(0.044309782105467606)), (528, np.float64(0.004604518159183572)), (529, np.float64(0.005337548534023052)), (530, np.float64(0.0)), (531, np.float64(0.0)), (532, np.float64(0.01602672404443449)), (533, np.float64(0.005038992869150818)), (534, np.float64(0.004653506574717083)), (535, np.float64(0.016664609599096193)), (536, np.float64(0.02159991778721191)), (537, np.float64(0.004010498512270347)), (538, np.float64(0.005356268007873437)), (539, np.float64(0.0)), (540, np.float64(0.0)), (541, np.float64(0.004600581088518117)), (542, np.float64(0.005509440689447875)), (543, np.float64(0.01626065783670839)), (544, np.float64(0.015411264235653314)), (545, np.float64(0.022358145472147744)), (546, np.float64(0.05412034542933209)), (547, np.float64(0.0)), (548, np.float64(0.02127723554970827)), (549, np.float64(0.005722271933460908)), (550, np.float64(0.005253344450716636)), (551, np.float64(0.0046379412263480085)), (552, np.float64(0.021358995236704315)), (553, np.float64(0.09236470979756456)), (554, np.float64(0.005135108691742671)), (555, np.float64(0.005057892517658216)), (556, np.float64(0.017853552403498025)), (557, np.float64(0.08051317853512183)), (558, np.float64(0.004568806945672789)), (559, np.float64(0.09473285798715862)), (560, np.float64(0.03505995178841064)), (561, np.float64(0.021386999586265578)), (562, np.float64(0.018425931079953904)), (563, np.float64(0.005078017826002551)), (564, np.float64(0.015100475745358546)), (565, np.float64(0.015394622521903266)), (566, np.float64(0.0)), (567, np.float64(0.07153309785802374)), (568, np.float64(0.0)), (569, np.float64(0.036964107311684216)), (570, np.float64(0.005308496051922819)), (571, np.float64(0.004628841218367412)), (572, np.float64(0.0052365792920662305)), (573, np.float64(0.005263493514476906)), (574, np.float64(0.004978142164604448)), (575, np.float64(0.004667049721381572)), (576, np.float64(0.0)), (577, np.float64(0.023982012669855834)), (578, np.float64(0.014404615803247025)), (579, np.float64(0.01959273640617077)), (580, np.float64(0.020432277183942416)), (581, np.float64(0.004847819192103274)), (582, np.float64(0.0)), (583, np.float64(0.0)), (584, np.float64(0.041975002139840345)), (585, np.float64(0.004993573096093001)), (586, np.float64(0.017696197747015564)), (587, np.float64(0.0052677338529194045)), (588, np.float64(0.00489765852582086)), (589, np.float64(0.004702665295208448)), (590, np.float64(0.022726282904390976)), (591, np.float64(0.0)), (592, np.float64(0.0)), (593, np.float64(0.005082556533604195)), (594, np.float64(0.005039026463352604)), (595, np.float64(0.004792199845312837)), (596, np.float64(0.0)), (597, np.float64(0.022855941950471883)), (598, np.float64(0.004977362269394257)), (599, np.float64(0.0)), (600, np.float64(0.02272274364848708)), (601, np.float64(0.005158739472444659)), (602, np.float64(0.018038605037987362)), (603, np.float64(0.05279674682562459)), (604, np.float64(0.019859155644461564)), (605, np.float64(0.02399951086352228)), (606, np.float64(0.004507948623373231)), (607, np.float64(0.02269141107633261)), (608, np.float64(0.01648195359938669)), (609, np.float64(0.031485064988736385)), (610, np.float64(0.00410240329982695)), (611, np.float64(0.01979828256838158)), (612, np.float64(0.03486402993227982)), (613, np.float64(0.004938944029215859)), (614, np.float64(0.024513794229378404)), (615, np.float64(0.0)), (616, np.float64(0.03213793552435727)), (617, np.float64(0.005300908890597306)), (618, np.float64(0.015310546339531342)), (619, np.float64(0.004359283729054235)), (620, np.float64(0.005695188231636913)), (621, np.float64(0.023656371743759605)), (622, np.float64(0.026626816927961657)), (623, np.float64(0.0)), (624, np.float64(0.004557065035895534)), (625, np.float64(0.004981023070385992)), (626, np.float64(0.004747262908380628)), (627, np.float64(0.0)), (628, np.float64(0.01937937276420372)), (629, np.float64(0.004684807253753363)), (630, np.float64(0.022365736129545465)), (631, np.float64(0.005138464880696468)), (632, np.float64(0.01958676444852611)), (633, np.float64(0.0)), (634, np.float64(0.0)), (635, np.float64(0.020663636383330353)), (636, np.float64(0.005104498460037909)), (637, np.float64(0.022803416070226488)), (638, np.float64(0.004209124151665468)), (639, np.float64(0.022439311759446245)), (640, np.float64(0.0041957109379316265)), (641, np.float64(0.003920645999787701)), (642, np.float64(0.019560165646911112)), (643, np.float64(0.005203724892248107)), (644, np.float64(0.020095172732788776)), (645, np.float64(0.0)), (646, np.float64(0.004438723151016781)), (647, np.float64(0.005387142722602532)), (648, np.float64(0.03180752909868706)), (649, np.float64(0.21144305150768697)), (650, np.float64(0.005099235908720667)), (651, np.float64(0.0)), (652, np.float64(0.005898467362168615)), (653, np.float64(0.018923304274199734)), (654, np.float64(0.005378384407019589)), (655, np.float64(0.022371382265041873)), (656, np.float64(0.020546832434459934)), (657, np.float64(0.005605029507788883)), (658, np.float64(0.004738768156304393)), (659, np.float64(0.005439429185357427)), (660, np.float64(0.022098824985237825)), (661, np.float64(0.03991572061116764)), (662, np.float64(0.00568595712923669)), (663, np.float64(0.11767323040194982)), (664, np.float64(0.02140330488243722)), (665, np.float64(0.03212163819218346)), (666, np.float64(0.0158216746319803)), (667, np.float64(0.005016429511412741)), (668, np.float64(0.004420101591663552)), (669, np.float64(0.03880514277166864)), (670, np.float64(0.005653989188383911)), (671, np.float64(0.005534443024344447)), (672, np.float64(0.004752849753607425)), (673, np.float64(0.005731195702332842)), (674, np.float64(0.021837948337689247)), (675, np.float64(0.015305579958555174)), (676, np.float64(0.024283278615504455)), (677, np.float64(0.0)), (678, np.float64(0.0)), (679, np.float64(0.0)), (680, np.float64(0.0247899187265557)), (681, np.float64(0.01783167889998659)), (682, np.float64(0.022222429945621576)), (683, np.float64(0.021715544636232816)), (684, np.float64(0.02029395499785654)), (685, np.float64(0.0)), (686, np.float64(0.021241778109700345)), (687, np.float64(0.046175400076519935)), (688, np.float64(0.016377855173203056)), (689, np.float64(0.004679550011372168)), (690, np.float64(0.00503809503550452)), (691, np.float64(0.014179310892661477)), (692, np.float64(0.01552070942074302)), (693, np.float64(0.3156499204658215)), (694, np.float64(0.0)), (695, np.float64(0.05749485238524753)), (696, np.float64(0.025335670385742512)), (697, np.float64(0.00518998044943315)), (698, np.float64(0.01446336780203274)), (699, np.float64(0.005487871723912863)), (700, np.float64(0.0)), (701, np.float64(0.004489118410844345)), (702, np.float64(0.017936961669291297)), (703, np.float64(0.004901726985326284)), (704, np.float64(0.0)), (705, np.float64(0.021122478664779114)), (706, np.float64(0.004802393098614287)), (707, np.float64(0.017357488075619)), (708, np.float64(0.020178528346626055)), (709, np.float64(0.005599515659359676)), (710, np.float64(0.02693897661138943)), (711, np.float64(0.0)), (712, np.float64(0.0)), (713, np.float64(0.0749463025550257)), (714, np.float64(0.01708425537198799)), (715, np.float64(0.0)), (716, np.float64(0.0046946035583666414)), (717, np.float64(0.0)), (718, np.float64(0.05384404013518379)), (719, np.float64(0.005145443494759295)), (720, np.float64(0.005123552664120257)), (721, np.float64(0.10165424083090603)), (722, np.float64(0.0)), (723, np.float64(0.024094961027325484)), (724, np.float64(0.0)), (725, np.float64(0.0)), (726, np.float64(0.004054123547905239)), (727, np.float64(0.01190568122537561)), (728, np.float64(0.004749043228790726)), (729, np.float64(0.021128888931477265)), (730, np.float64(0.015131035156046866)), (731, np.float64(0.01890569662169752)), (732, np.float64(0.01678122113519949)), (733, np.float64(0.01884565746762271)), (734, np.float64(0.004247741015679788)), (735, np.float64(0.004321091294874794)), (736, np.float64(0.017895235924265052)), (737, np.float64(0.01422497683347255)), (738, np.float64(0.005141463904559606)), (739, np.float64(0.005304194309007286)), (740, np.float64(0.0)), (741, np.float64(0.00474543506972162)), (742, np.float64(0.005210872497750784)), (743, np.float64(0.0)), (744, np.float64(0.017124496069857373)), (745, np.float64(0.005401125598317352)), (746, np.float64(0.0)), (747, np.float64(0.004410190770414283)), (748, np.float64(0.022139297420113023)), (749, np.float64(0.0)), (750, np.float64(0.017558285714331982)), (751, np.float64(0.0)), (752, np.float64(0.004948692324331653)), (753, np.float64(0.004612014940579371)), (754, np.float64(0.004470585209932338)), (755, np.float64(0.015117287307507792)), (756, np.float64(0.0)), (757, np.float64(0.005388616791390612)), (758, np.float64(0.005104647954864573)), (759, np.float64(0.02468201899056943)), (760, np.float64(0.0050375073239065085)), (761, np.float64(0.0)), (762, np.float64(0.020186064212030577)), (763, np.float64(0.02304054927184994)), (764, np.float64(0.004641735173291549)), (765, np.float64(0.004661840615039864)), (766, np.float64(0.020505986818975364)), (767, np.float64(0.02721469048913655)), (768, np.float64(0.022414840775530697)), (769, np.float64(0.004671558025158285)), (770, np.float64(0.005191130111867469)), (771, np.float64(0.0)), (772, np.float64(0.004904865790916872)), (773, np.float64(0.005259613151120949)), (774, np.float64(0.02573880475909934)), (775, np.float64(0.02551615566756234)), (776, np.float64(0.0)), (777, np.float64(0.017174712000217123)), (778, np.float64(0.023780080675106)), (779, np.float64(0.0055293947703262125)), (780, np.float64(0.10636015416090391)), (781, np.float64(0.015102248933797965)), (782, np.float64(0.02508923038710609)), (783, np.float64(0.005033944146570246)), (784, np.float64(0.022882882481953845)), (785, np.float64(0.021328620983649585)), (786, np.float64(0.004660790951790471)), (787, np.float64(0.00524632317799988)), (788, np.float64(0.005022862484229031)), (789, np.float64(0.005546402578821898)), (790, np.float64(0.0048961703049273195)), (791, np.float64(0.02472276066448557)), (792, np.float64(0.005010116863768359)), (793, np.float64(0.005116826962962093)), (794, np.float64(0.015777143629513327)), (795, np.float64(0.019923160760813012)), (796, np.float64(0.0)), (797, np.float64(0.016808901553158537)), (798, np.float64(0.020375561767147943)), (799, np.float64(0.0)), (800, np.float64(0.0)), (801, np.float64(0.0054330106649408925)), (802, np.float64(0.025449224522157518)), (803, np.float64(0.005631075774867357)), (804, np.float64(0.004610703565445335)), (805, np.float64(0.004955998147623384)), (806, np.float64(0.004101504468807961)), (807, np.float64(0.015295486140020503)), (808, np.float64(0.08716589185441583)), (809, np.float64(0.1975285101774514)), (810, np.float64(0.004855108414173243)), (811, np.float64(0.02368951893799863)), (812, np.float64(0.004270825022833015)), (813, np.float64(0.00487514995400021)), (814, np.float64(0.020141287970908903)), (815, np.float64(0.003979499743632848)), (816, np.float64(0.0)), (817, np.float64(0.005295959228254685)), (818, np.float64(0.006086501420430227)), (819, np.float64(0.03554386476344873)), (820, np.float64(0.00560619477715059)), (821, np.float64(0.03756892415163084)), (822, np.float64(0.0)), (823, np.float64(0.18410004383140963)), (824, np.float64(0.00531237307045028)), (825, np.float64(0.004552336105025588)), (826, np.float64(0.004958084075467008)), (827, np.float64(0.023311056564685278)), (828, np.float64(0.0)), (829, np.float64(0.0)), (830, np.float64(0.00591514741761471)), (831, np.float64(0.021638696808170172)), (832, np.float64(0.023349067257582037)), (833, np.float64(0.020280428956723478)), (834, np.float64(0.004904876385953158)), (835, np.float64(0.015588405178258016)), (836, np.float64(0.023902391238669246)), (837, np.float64(0.0)), (838, np.float64(0.023922102542464064)), (839, np.float64(0.013953879608105872)), (840, np.float64(0.0)), (841, np.float64(0.005095631817732208)), (842, np.float64(0.0)), (843, np.float64(0.0)), (844, np.float64(0.0)), (845, np.float64(0.004401521704471231)), (846, np.float64(0.0)), (847, np.float64(0.03069989392592548)), (848, np.float64(0.0)), (849, np.float64(0.21150603359403447)), (850, np.float64(0.04470573717069598)), (851, np.float64(0.0055604047057027945)), (852, np.float64(0.041690326703359926)), (853, np.float64(0.02083764377258899)), (854, np.float64(0.0)), (855, np.float64(0.016946223315930972)), (856, np.float64(0.01677720951924681)), (857, np.float64(0.005117968569864228)), (858, np.float64(0.004668831315021535)), (859, np.float64(0.005296702938699633)), (860, np.float64(0.005293824428792151)), (861, np.float64(0.0)), (862, np.float64(0.02302261582984648)), (863, np.float64(0.005336594340345075)), (864, np.float64(0.0052662416356657705)), (865, np.float64(0.015917136646381138)), (866, np.float64(0.0043735949105564885)), (867, np.float64(0.018677630203563767)), (868, np.float64(0.004852333904127486)), (869, np.float64(0.03901552304317024)), (870, np.float64(0.005818374463458203)), (871, np.float64(0.09537837486542901)), (872, np.float64(0.03598320539694766)), (873, np.float64(0.02302597427611337)), (874, np.float64(0.06882931148888363)), (875, np.float64(0.06470161294054524)), (876, np.float64(0.015447402782768464)), (877, np.float64(0.004887459924261631)), (878, np.float64(0.005136252990151789)), (879, np.float64(0.0049565014296566855)), (880, np.float64(0.005236028208125605)), (881, np.float64(0.020935737183753318)), (882, np.float64(0.023616296908553314)), (883, np.float64(0.00537132160236188)), (884, np.float64(0.019267467697438354)), (885, np.float64(0.024206874482619954)), (886, np.float64(0.0043443475658165665)), (887, np.float64(0.015702800293827153)), (888, np.float64(0.02439147836779976)), (889, np.float64(0.021167725123476908)), (890, np.float64(0.00531970878229617)), (891, np.float64(0.0)), (892, np.float64(0.0)), (893, np.float64(0.02629058490892273)), (894, np.float64(0.005483600310203699)), (895, np.float64(0.024615547119302236)), (896, np.float64(0.022689027244798658)), (897, np.float64(0.004985197257035726)), (898, np.float64(0.03419612074429573)), (899, np.float64(0.0)), (900, np.float64(0.0)), (901, np.float64(0.024724584963087756)), (902, np.float64(0.0)), (903, np.float64(0.004081434989531701)), (904, np.float64(0.004762241756377952)), (905, np.float64(0.0050829220568813045)), (906, np.float64(0.019391274119962)), (907, np.float64(0.004466837294355177)), (908, np.float64(0.018184296369114096)), (909, np.float64(0.018695565214154428)), (910, np.float64(0.0052677895921939485)), (911, np.float64(0.00433929328368976)), (912, np.float64(0.0)), (913, np.float64(0.0050323734399489095)), (914, np.float64(0.0)), (915, np.float64(0.019834943031181697)), (916, np.float64(0.022787045107963984)), (917, np.float64(0.004837529788661148)), (918, np.float64(0.02406771599939925)), (919, np.float64(0.0)), (920, np.float64(0.015393660596469372)), (921, np.float64(0.027056235585404313)), (922, np.float64(0.0217683256134706)), (923, np.float64(0.004375852966846385)), (924, np.float64(0.0040708537984729815)), (925, np.float64(0.021991686777033132)), (926, np.float64(0.022859372552362284)), (927, np.float64(0.015134495935039348)), (928, np.float64(0.0049974565334239005)), (929, np.float64(0.004805187110200626)), (930, np.float64(0.004857562922402602)), (931, np.float64(0.026051665795208897)), (932, np.float64(0.0)), (933, np.float64(0.004563825173431674)), (934, np.float64(0.004722859518589868)), (935, np.float64(0.004626900160553019)), (936, np.float64(0.004336294214540267)), (937, np.float64(0.022309873115445012)), (938, np.float64(0.023164922980688507)), (939, np.float64(0.019695912828117494)), (940, np.float64(0.005070883331883753)), (941, np.float64(0.005401697189224907)), (942, np.float64(0.018751443163796205)), (943, np.float64(0.0045578492161295475)), (944, np.float64(0.004774094724547546)), (945, np.float64(0.022341331318512618)), (946, np.float64(0.004521510643117245)), (947, np.float64(0.014976980215538381)), (948, np.float64(0.016679394802171996)), (949, np.float64(0.025154293692504655)), (950, np.float64(0.019236559550696523)), (951, np.float64(0.020151265682793348)), (952, np.float64(0.022140715083107294)), (953, np.float64(0.024324813341857102)), (954, np.float64(0.023599938417353063)), (955, np.float64(0.021252305695050502)), (956, np.float64(0.0)), (957, np.float64(0.004139817716822033)), (958, np.float64(0.023899942521256448)), (959, np.float64(0.0)), (960, np.float64(0.025565037779589902)), (961, np.float64(0.0)), (962, np.float64(0.005244073581008127)), (963, np.float64(0.0)), (964, np.float64(0.00550578070702848)), (965, np.float64(0.019233704135411034)), (966, np.float64(0.005723435674516045)), (967, np.float64(0.004842578234893317)), (968, np.float64(0.0253653692780953)), (969, np.float64(0.0)), (970, np.float64(0.017838930837715417)), (971, np.float64(0.004144879844614475)), (972, np.float64(0.018057052054144884)), (973, np.float64(0.0)), (974, np.float64(0.5820751756113213)), (975, np.float64(0.004658648451027645)), (976, np.float64(0.016440049709014873)), (977, np.float64(0.041239768964248046)), (978, np.float64(0.005028306564332133)), (979, np.float64(0.019449505099331167)), (980, np.float64(0.024114063853845666)), (981, np.float64(0.005050335151128898)), (982, np.float64(0.0)), (983, np.float64(0.03886274183837961)), (984, np.float64(0.017081880322087364)), (985, np.float64(0.018756871790103265)), (986, np.float64(0.005163532145923708)), (987, np.float64(0.024598188840209142)), (988, np.float64(0.019593064837636617)), (989, np.float64(0.03793502080551828)), (990, np.float64(0.004799652280978812)), (991, np.float64(0.0)), (992, np.float64(0.015591259926315954)), (993, np.float64(0.0052526376287815885)), (994, np.float64(0.0)), (995, np.float64(0.004957394642672427)), (996, np.float64(0.005373757656623755)), (997, np.float64(0.004450421191473556)), (998, np.float64(0.005590291555017466)), (999, np.float64(0.03608845837177847))]\n"
          ]
        }
      ]
    },
    {
      "cell_type": "code",
      "source": [
        "#sorting the sim_list in decreasing order\n",
        "\n",
        "sorted_similar_list = sorted(similar_list, key = lambda x:x[1], reverse = True)\n",
        "print(sorted_similar_list)"
      ],
      "metadata": {
        "colab": {
          "base_uri": "https://localhost:8080/"
        },
        "id": "LSWdej8xVIUq",
        "outputId": "f5d3e2a1-8104-4235-eac3-3a09737384d2"
      },
      "execution_count": null,
      "outputs": [
        {
          "output_type": "stream",
          "name": "stdout",
          "text": [
            "[(1, np.float64(1.0000000000000002)), (3, np.float64(0.6061208580244626)), (974, np.float64(0.5820751756113213)), (74, np.float64(0.49783040541525003)), (693, np.float64(0.3156499204658215)), (305, np.float64(0.2695818605756022)), (484, np.float64(0.2385846235697268)), (164, np.float64(0.22507383298088285)), (447, np.float64(0.21954133028937042)), (849, np.float64(0.21150603359403447)), (649, np.float64(0.21144305150768697)), (108, np.float64(0.20281500998122953)), (809, np.float64(0.1975285101774514)), (416, np.float64(0.1908056398161994)), (523, np.float64(0.19005334565085147)), (823, np.float64(0.18410004383140963)), (398, np.float64(0.16785006179841877)), (663, np.float64(0.11767323040194982)), (780, np.float64(0.10636015416090391)), (721, np.float64(0.10165424083090603)), (50, np.float64(0.09782608251547023)), (491, np.float64(0.09591025804634604)), (871, np.float64(0.09537837486542901)), (119, np.float64(0.09481386684668341)), (559, np.float64(0.09473285798715862)), (553, np.float64(0.09236470979756456)), (116, np.float64(0.0902490315972375)), (81, np.float64(0.09009891956490725)), (457, np.float64(0.08759067005436431)), (808, np.float64(0.08716589185441583)), (423, np.float64(0.08286110734566682)), (274, np.float64(0.08208181892812674)), (295, np.float64(0.08149393485487272)), (72, np.float64(0.08128958812010122)), (260, np.float64(0.0806459328966345)), (557, np.float64(0.08051317853512183)), (53, np.float64(0.08002492366045805)), (217, np.float64(0.07983316971651211)), (168, np.float64(0.07871364067480241)), (440, np.float64(0.0762982123000251)), (713, np.float64(0.0749463025550257)), (124, np.float64(0.07231385977768877)), (567, np.float64(0.07153309785802374)), (29, np.float64(0.07022761285061152)), (340, np.float64(0.06924503365460172)), (874, np.float64(0.06882931148888363)), (109, np.float64(0.06839108069193134)), (16, np.float64(0.06806352051767815)), (275, np.float64(0.06510670110766621)), (875, np.float64(0.06470161294054524)), (5, np.float64(0.059730727101695254)), (10, np.float64(0.05846517026351691)), (695, np.float64(0.05749485238524753)), (28, np.float64(0.05536899357447993)), (546, np.float64(0.05412034542933209)), (718, np.float64(0.05384404013518379)), (263, np.float64(0.05358315604878676)), (442, np.float64(0.05353215900670898)), (603, np.float64(0.05279674682562459)), (13, np.float64(0.04880358363914086)), (37, np.float64(0.048582574889917546)), (687, np.float64(0.046175400076519935)), (112, np.float64(0.045855187261527444)), (850, np.float64(0.04470573717069598)), (527, np.float64(0.044309782105467606)), (2, np.float64(0.04384107830335568)), (584, np.float64(0.041975002139840345)), (852, np.float64(0.041690326703359926)), (977, np.float64(0.041239768964248046)), (25, np.float64(0.040638345431744334)), (451, np.float64(0.03996112714618212)), (661, np.float64(0.03991572061116764)), (147, np.float64(0.03976962656042397)), (441, np.float64(0.03902072419971319)), (869, np.float64(0.03901552304317024)), (983, np.float64(0.03886274183837961)), (669, np.float64(0.03880514277166864)), (79, np.float64(0.03850718157451034)), (384, np.float64(0.03808111457005606)), (376, np.float64(0.03802550990242878)), (989, np.float64(0.03793502080551828)), (821, np.float64(0.03756892415163084)), (569, np.float64(0.036964107311684216)), (999, np.float64(0.03608845837177847)), (872, np.float64(0.03598320539694766)), (424, np.float64(0.03586617826792949)), (819, np.float64(0.03554386476344873)), (304, np.float64(0.03548188777222431)), (311, np.float64(0.03517700036250226)), (560, np.float64(0.03505995178841064)), (41, np.float64(0.03499212136971217)), (612, np.float64(0.03486402993227982)), (460, np.float64(0.03438594784535677)), (898, np.float64(0.03419612074429573)), (252, np.float64(0.034149279012725325)), (209, np.float64(0.03346630310466134)), (191, np.float64(0.032559712534258475)), (616, np.float64(0.03213793552435727)), (665, np.float64(0.03212163819218346)), (648, np.float64(0.03180752909868706)), (609, np.float64(0.031485064988736385)), (847, np.float64(0.03069989392592548)), (87, np.float64(0.029895269123995285)), (450, np.float64(0.029357627262451783)), (55, np.float64(0.028776747048359287)), (165, np.float64(0.028506227743106457)), (218, np.float64(0.028027518941260984)), (27, np.float64(0.02780312168307387)), (15, np.float64(0.027597288224914168)), (767, np.float64(0.02721469048913655)), (201, np.float64(0.027170640450291484)), (921, np.float64(0.027056235585404313)), (710, np.float64(0.02693897661138943)), (162, np.float64(0.026865980788029126)), (622, np.float64(0.026626816927961657)), (505, np.float64(0.026420566474055704)), (222, np.float64(0.02634341985375705)), (893, np.float64(0.02629058490892273)), (86, np.float64(0.02625610551999183)), (418, np.float64(0.0262545675395427)), (33, np.float64(0.026225852621089035)), (42, np.float64(0.026100627826164714)), (931, np.float64(0.026051665795208897)), (111, np.float64(0.026000492281313917)), (189, np.float64(0.025840520224908705)), (224, np.float64(0.02581154715538252)), (520, np.float64(0.02576105040945297)), (774, np.float64(0.02573880475909934)), (474, np.float64(0.02573538918978179)), (960, np.float64(0.025565037779589902)), (775, np.float64(0.02551615566756234)), (802, np.float64(0.025449224522157518)), (463, np.float64(0.025385148494177757)), (6, np.float64(0.02538365297381633)), (968, np.float64(0.0253653692780953)), (696, np.float64(0.025335670385742512)), (343, np.float64(0.025173306723093206)), (949, np.float64(0.025154293692504655)), (782, np.float64(0.02508923038710609)), (494, np.float64(0.025035768445421457)), (255, np.float64(0.02494889818941163)), (180, np.float64(0.024830354308966743)), (680, np.float64(0.0247899187265557)), (308, np.float64(0.024764161642622642)), (901, np.float64(0.024724584963087756)), (791, np.float64(0.02472276066448557)), (241, np.float64(0.024689931548921865)), (759, np.float64(0.02468201899056943)), (103, np.float64(0.02467263337648465)), (895, np.float64(0.024615547119302236)), (987, np.float64(0.024598188840209142)), (437, np.float64(0.024540860546894843)), (133, np.float64(0.02451888559885298)), (614, np.float64(0.024513794229378404)), (4, np.float64(0.024467961530824207)), (380, np.float64(0.02442568989678632)), (163, np.float64(0.024421247029232138)), (77, np.float64(0.024408874263890736)), (888, np.float64(0.02439147836779976)), (335, np.float64(0.02436279923842072)), (953, np.float64(0.024324813341857102)), (676, np.float64(0.024283278615504455)), (276, np.float64(0.024255213135418965)), (257, np.float64(0.0242338085058309)), (885, np.float64(0.024206874482619954)), (980, np.float64(0.024114063853845666)), (71, np.float64(0.02409949261009229)), (723, np.float64(0.024094961027325484)), (918, np.float64(0.02406771599939925)), (134, np.float64(0.024036445363138762)), (331, np.float64(0.024036445363138762)), (605, np.float64(0.02399951086352228)), (136, np.float64(0.023994395237761458)), (577, np.float64(0.023982012669855834)), (838, np.float64(0.023922102542464064)), (836, np.float64(0.023902391238669246)), (958, np.float64(0.023899942521256448)), (36, np.float64(0.023879760791012835)), (117, np.float64(0.023847280361060656)), (73, np.float64(0.023846214493317648)), (778, np.float64(0.023780080675106)), (811, np.float64(0.02368951893799863)), (621, np.float64(0.023656371743759605)), (882, np.float64(0.023616296908553314)), (954, np.float64(0.023599938417353063)), (347, np.float64(0.02358294608386799)), (427, np.float64(0.02355596960383204)), (113, np.float64(0.023460397773410163)), (485, np.float64(0.023440672066750292)), (434, np.float64(0.023418947136247283)), (832, np.float64(0.023349067257582037)), (827, np.float64(0.023311056564685278)), (179, np.float64(0.02324550250216264)), (288, np.float64(0.023203278240004753)), (329, np.float64(0.023165480017995777)), (938, np.float64(0.023164922980688507)), (278, np.float64(0.02316288788643686)), (385, np.float64(0.02311198900682971)), (763, np.float64(0.02304054927184994)), (873, np.float64(0.02302597427611337)), (862, np.float64(0.02302261582984648)), (784, np.float64(0.022882882481953845)), (926, np.float64(0.022859372552362284)), (597, np.float64(0.022855941950471883)), (637, np.float64(0.022803416070226488)), (916, np.float64(0.022787045107963984)), (519, np.float64(0.022772369571510027)), (250, np.float64(0.022740435230340385)), (590, np.float64(0.022726282904390976)), (429, np.float64(0.022723035967240117)), (600, np.float64(0.02272274364848708)), (607, np.float64(0.02269141107633261)), (896, np.float64(0.022689027244798658)), (495, np.float64(0.02267705836358375)), (287, np.float64(0.02264732468504927)), (38, np.float64(0.022579048137931906)), (294, np.float64(0.02253244030018729)), (243, np.float64(0.022475856146410185)), (639, np.float64(0.022439311759446245)), (768, np.float64(0.022414840775530697)), (512, np.float64(0.022375475816897257)), (655, np.float64(0.022371382265041873)), (630, np.float64(0.022365736129545465)), (545, np.float64(0.022358145472147744)), (945, np.float64(0.022341331318512618)), (937, np.float64(0.022309873115445012)), (481, np.float64(0.022286647594522563)), (0, np.float64(0.022239662971554632)), (682, np.float64(0.022222429945621576)), (363, np.float64(0.022181182598134657)), (465, np.float64(0.022161854916096665)), (198, np.float64(0.022152357139448502)), (346, np.float64(0.022143571042354534)), (952, np.float64(0.022140715083107294)), (748, np.float64(0.022139297420113023)), (123, np.float64(0.02213778510200234)), (660, np.float64(0.022098824985237825)), (284, np.float64(0.022078570098129482)), (497, np.float64(0.02204841062842268)), (43, np.float64(0.02200958742710732)), (169, np.float64(0.02200884256034032)), (356, np.float64(0.021999335473421113)), (925, np.float64(0.021991686777033132)), (22, np.float64(0.02197091896790174)), (176, np.float64(0.02195929527638097)), (397, np.float64(0.021912728156052025)), (674, np.float64(0.021837948337689247)), (922, np.float64(0.0217683256134706)), (489, np.float64(0.021720733404847453)), (683, np.float64(0.021715544636232816)), (231, np.float64(0.02168934969772237)), (831, np.float64(0.021638696808170172)), (299, np.float64(0.02160456418470065)), (536, np.float64(0.02159991778721191)), (310, np.float64(0.021553201459566414)), (219, np.float64(0.021507823428474813)), (326, np.float64(0.021480282689919854)), (314, np.float64(0.021409166809602486)), (664, np.float64(0.02140330488243722)), (561, np.float64(0.021386999586265578)), (403, np.float64(0.021383356561235835)), (552, np.float64(0.021358995236704315)), (785, np.float64(0.021328620983649585)), (548, np.float64(0.02127723554970827)), (955, np.float64(0.021252305695050502)), (686, np.float64(0.021241778109700345)), (35, np.float64(0.021196364012761076)), (889, np.float64(0.021167725123476908)), (729, np.float64(0.021128888931477265)), (705, np.float64(0.021122478664779114)), (153, np.float64(0.02106667244075316)), (881, np.float64(0.020935737183753318)), (232, np.float64(0.020865726515635088)), (853, np.float64(0.02083764377258899)), (421, np.float64(0.02073249921909809)), (298, np.float64(0.020674081807043502)), (635, np.float64(0.020663636383330353)), (470, np.float64(0.020639589480901506)), (364, np.float64(0.020592002318783508)), (656, np.float64(0.020546832434459934)), (360, np.float64(0.020515616350490744)), (96, np.float64(0.020508353008559452)), (766, np.float64(0.020505986818975364)), (261, np.float64(0.020460548600980635)), (580, np.float64(0.020432277183942416)), (156, np.float64(0.020397121487607986)), (798, np.float64(0.020375561767147943)), (248, np.float64(0.020352027444396906)), (375, np.float64(0.02032300588664361)), (444, np.float64(0.020296303846513562)), (684, np.float64(0.02029395499785654)), (833, np.float64(0.020280428956723478)), (762, np.float64(0.020186064212030577)), (708, np.float64(0.020178528346626055)), (132, np.float64(0.020176768298149995)), (951, np.float64(0.020151265682793348)), (422, np.float64(0.020144280961381322)), (814, np.float64(0.020141287970908903)), (644, np.float64(0.020095172732788776)), (186, np.float64(0.020091496978911685)), (338, np.float64(0.02007435968861375)), (344, np.float64(0.0199634671474783)), (160, np.float64(0.01995953299719009)), (226, np.float64(0.019954039033009345)), (307, np.float64(0.01993773970192853)), (795, np.float64(0.019923160760813012)), (604, np.float64(0.019859155644461564)), (915, np.float64(0.019834943031181697)), (127, np.float64(0.01983384302722599)), (480, np.float64(0.01982480910728162)), (611, np.float64(0.01979828256838158)), (939, np.float64(0.019695912828117494)), (988, np.float64(0.019593064837636617)), (579, np.float64(0.01959273640617077)), (632, np.float64(0.01958676444852611)), (129, np.float64(0.019562262428460216)), (642, np.float64(0.019560165646911112)), (979, np.float64(0.019449505099331167)), (487, np.float64(0.019442995539378338)), (369, np.float64(0.019413554213069763)), (906, np.float64(0.019391274119962)), (628, np.float64(0.01937937276420372)), (239, np.float64(0.019372290276161254)), (345, np.float64(0.019345260731698892)), (884, np.float64(0.019267467697438354)), (950, np.float64(0.019236559550696523)), (965, np.float64(0.019233704135411034)), (272, np.float64(0.019214947487315392)), (187, np.float64(0.01915323898533409)), (193, np.float64(0.01915171020380293)), (83, np.float64(0.01900450252896328)), (653, np.float64(0.018923304274199734)), (731, np.float64(0.01890569662169752)), (733, np.float64(0.01884565746762271)), (985, np.float64(0.018756871790103265)), (942, np.float64(0.018751443163796205)), (461, np.float64(0.01870796590702603)), (909, np.float64(0.018695565214154428)), (867, np.float64(0.018677630203563767)), (54, np.float64(0.01851497340896522)), (17, np.float64(0.018430219089666338)), (562, np.float64(0.018425931079953904)), (438, np.float64(0.01840700655912506)), (94, np.float64(0.018366643956376747)), (454, np.float64(0.01832288321454935)), (378, np.float64(0.018303212789031447)), (67, np.float64(0.0182900055376074)), (908, np.float64(0.018184296369114096)), (455, np.float64(0.018100732374029396)), (972, np.float64(0.018057052054144884)), (602, np.float64(0.018038605037987362)), (386, np.float64(0.01799734695394581)), (449, np.float64(0.017996870693869346)), (702, np.float64(0.017936961669291297)), (142, np.float64(0.01790906182452575)), (736, np.float64(0.017895235924265052)), (556, np.float64(0.017853552403498025)), (970, np.float64(0.017838930837715417)), (681, np.float64(0.01783167889998659)), (410, np.float64(0.017787193198178078)), (586, np.float64(0.017696197747015564)), (750, np.float64(0.017558285714331982)), (525, np.float64(0.017537423311626454)), (394, np.float64(0.01745466303139746)), (63, np.float64(0.01744250742635347)), (140, np.float64(0.017362865031409453)), (707, np.float64(0.017357488075619)), (357, np.float64(0.01733899679646112)), (337, np.float64(0.017266541377440804)), (47, np.float64(0.017190143927601594)), (777, np.float64(0.017174712000217123)), (744, np.float64(0.017124496069857373)), (714, np.float64(0.01708425537198799)), (984, np.float64(0.017081880322087364)), (855, np.float64(0.016946223315930972)), (419, np.float64(0.01690653716208596)), (362, np.float64(0.016845334600018184)), (797, np.float64(0.016808901553158537)), (732, np.float64(0.01678122113519949)), (856, np.float64(0.01677720951924681)), (948, np.float64(0.016679394802171996)), (535, np.float64(0.016664609599096193)), (271, np.float64(0.0166059253795248)), (608, np.float64(0.01648195359938669)), (456, np.float64(0.016478897468544175)), (339, np.float64(0.016464017260108293)), (976, np.float64(0.016440049709014873)), (688, np.float64(0.016377855173203056)), (511, np.float64(0.016347787087038306)), (406, np.float64(0.01631986905772624)), (503, np.float64(0.016263845708757496)), (543, np.float64(0.01626065783670839)), (390, np.float64(0.0161531288011218)), (532, np.float64(0.01602672404443449)), (865, np.float64(0.015917136646381138)), (666, np.float64(0.0158216746319803)), (794, np.float64(0.015777143629513327)), (887, np.float64(0.015702800293827153)), (125, np.float64(0.01568162281350796)), (458, np.float64(0.015628355543376368)), (389, np.float64(0.01559825452071936)), (992, np.float64(0.015591259926315954)), (835, np.float64(0.015588405178258016)), (161, np.float64(0.015584557371474357)), (426, np.float64(0.015579839702916041)), (692, np.float64(0.01552070942074302)), (395, np.float64(0.015520648896380742)), (876, np.float64(0.015447402782768464)), (544, np.float64(0.015411264235653314)), (565, np.float64(0.015394622521903266)), (920, np.float64(0.015393660596469372)), (309, np.float64(0.015326113451632753)), (618, np.float64(0.015310546339531342)), (675, np.float64(0.015305579958555174)), (251, np.float64(0.015300777939514421)), (807, np.float64(0.015295486140020503)), (506, np.float64(0.015263260057914002)), (401, np.float64(0.015252439713967178)), (48, np.float64(0.015171342205351558)), (927, np.float64(0.015134495935039348)), (730, np.float64(0.015131035156046866)), (755, np.float64(0.015117287307507792)), (781, np.float64(0.015102248933797965)), (564, np.float64(0.015100475745358546)), (318, np.float64(0.014987485727971922)), (947, np.float64(0.014976980215538381)), (510, np.float64(0.014914801871771308)), (698, np.float64(0.01446336780203274)), (578, np.float64(0.014404615803247025)), (320, np.float64(0.014384222382058384)), (737, np.float64(0.01422497683347255)), (14, np.float64(0.014208908157203751)), (691, np.float64(0.014179310892661477)), (477, np.float64(0.014078493602431113)), (120, np.float64(0.014040946954248146)), (839, np.float64(0.013953879608105872)), (178, np.float64(0.013319057766927683)), (58, np.float64(0.012810217172747614)), (78, np.float64(0.012382152017127376)), (727, np.float64(0.01190568122537561)), (818, np.float64(0.006086501420430227)), (64, np.float64(0.006030739729008784)), (216, np.float64(0.005920245209495844)), (830, np.float64(0.00591514741761471)), (652, np.float64(0.005898467362168615)), (870, np.float64(0.005818374463458203)), (383, np.float64(0.005786887626710333)), (280, np.float64(0.005741697130206223)), (404, np.float64(0.005738474878229069)), (673, np.float64(0.005731195702332842)), (181, np.float64(0.0057297565055605855)), (966, np.float64(0.005723435674516045)), (549, np.float64(0.005722271933460908)), (9, np.float64(0.005717439614127184)), (39, np.float64(0.0057163153509685915)), (478, np.float64(0.005697295749383663)), (202, np.float64(0.005695547770269674)), (620, np.float64(0.005695188231636913)), (121, np.float64(0.0056872533298471944)), (662, np.float64(0.00568595712923669)), (20, np.float64(0.005680925113415512)), (237, np.float64(0.0056660094508716565)), (259, np.float64(0.00565714024410557)), (670, np.float64(0.005653989188383911)), (803, np.float64(0.005631075774867357)), (11, np.float64(0.005615164213801546)), (820, np.float64(0.00560619477715059)), (657, np.float64(0.005605029507788883)), (411, np.float64(0.0056022130256054535)), (709, np.float64(0.005599515659359676)), (998, np.float64(0.005590291555017466)), (130, np.float64(0.0055658035592243875)), (207, np.float64(0.005563215125091758)), (400, np.float64(0.005560973204209183)), (443, np.float64(0.005560683869552549)), (851, np.float64(0.0055604047057027945)), (268, np.float64(0.005552533469083267)), (789, np.float64(0.005546402578821898)), (671, np.float64(0.005534443024344447)), (779, np.float64(0.0055293947703262125)), (289, np.float64(0.005516348239641598)), (542, np.float64(0.005509440689447875)), (964, np.float64(0.00550578070702848)), (57, np.float64(0.005505312230766048)), (699, np.float64(0.005487871723912863)), (894, np.float64(0.005483600310203699)), (283, np.float64(0.0054804983385947)), (21, np.float64(0.005475868639866741)), (159, np.float64(0.005472014027547651)), (445, np.float64(0.005457009068678106)), (34, np.float64(0.005445775994785388)), (659, np.float64(0.005439429185357427)), (297, np.float64(0.005437516719311463)), (801, np.float64(0.0054330106649408925)), (184, np.float64(0.005426740995812226)), (486, np.float64(0.005420787107587376)), (24, np.float64(0.0054126648637491045)), (341, np.float64(0.005410501057084368)), (387, np.float64(0.005409562742051158)), (273, np.float64(0.0054092594362664115)), (471, np.float64(0.005408529897501193)), (412, np.float64(0.0054040646632176875)), (333, np.float64(0.005402925889522447)), (941, np.float64(0.005401697189224907)), (745, np.float64(0.005401125598317352)), (84, np.float64(0.005400687043152548)), (214, np.float64(0.005397176121366617)), (757, np.float64(0.005388616791390612)), (254, np.float64(0.00538807400478196)), (647, np.float64(0.005387142722602532)), (328, np.float64(0.005384826981320313)), (350, np.float64(0.0053808570446364345)), (654, np.float64(0.005378384407019589)), (996, np.float64(0.005373757656623755)), (883, np.float64(0.00537132160236188)), (107, np.float64(0.005361960201601347)), (538, np.float64(0.005356268007873437)), (312, np.float64(0.005356150895064166)), (483, np.float64(0.005355625439915535)), (425, np.float64(0.005352790632776415)), (529, np.float64(0.005337548534023052)), (300, np.float64(0.005337014909651986)), (863, np.float64(0.005336594340345075)), (432, np.float64(0.005331626062952191)), (324, np.float64(0.005330521998834859)), (282, np.float64(0.005321137686966039)), (890, np.float64(0.00531970878229617)), (436, np.float64(0.005316859024088041)), (824, np.float64(0.00531237307045028)), (570, np.float64(0.005308496051922819)), (739, np.float64(0.005304194309007286)), (617, np.float64(0.005300908890597306)), (303, np.float64(0.005297204063629089)), (859, np.float64(0.005296702938699633)), (817, np.float64(0.005295959228254685)), (476, np.float64(0.005294784549451743)), (860, np.float64(0.005293824428792151)), (98, np.float64(0.005293711869898193)), (524, np.float64(0.00529060025191305)), (210, np.float64(0.005286064933756649)), (30, np.float64(0.0052791629495124864)), (370, np.float64(0.005272943047205941)), (517, np.float64(0.0052720168624576305)), (910, np.float64(0.0052677895921939485)), (587, np.float64(0.0052677338529194045)), (864, np.float64(0.0052662416356657705)), (573, np.float64(0.005263493514476906)), (773, np.float64(0.005259613151120949)), (141, np.float64(0.005257798199069681)), (550, np.float64(0.005253344450716636)), (993, np.float64(0.0052526376287815885)), (373, np.float64(0.005252135755300445)), (93, np.float64(0.005251285844905537)), (787, np.float64(0.00524632317799988)), (962, np.float64(0.005244073581008127)), (174, np.float64(0.005237035238665138)), (572, np.float64(0.0052365792920662305)), (880, np.float64(0.005236028208125605)), (279, np.float64(0.005232577166482983)), (175, np.float64(0.005228531162158314)), (128, np.float64(0.0052279344283780475)), (498, np.float64(0.00522655830729427)), (323, np.float64(0.005216915035610746)), (742, np.float64(0.005210872497750784)), (643, np.float64(0.005203724892248107)), (452, np.float64(0.005196139926404054)), (770, np.float64(0.005191130111867469)), (697, np.float64(0.00518998044943315)), (144, np.float64(0.005186082090174067)), (203, np.float64(0.005178491876199599)), (76, np.float64(0.005178050458371694)), (986, np.float64(0.005163532145923708)), (281, np.float64(0.00516247860823186)), (453, np.float64(0.005161610778358188)), (601, np.float64(0.005158739472444659)), (514, np.float64(0.005152972479295371)), (40, np.float64(0.005148528357189313)), (515, np.float64(0.005146737328706837)), (719, np.float64(0.005145443494759295)), (361, np.float64(0.005143393688305033)), (212, np.float64(0.0051433385253173165)), (738, np.float64(0.005141463904559606)), (631, np.float64(0.005138464880696468)), (172, np.float64(0.005137131149669765)), (80, np.float64(0.005136838071919451)), (878, np.float64(0.005136252990151789)), (554, np.float64(0.005135108691742671)), (468, np.float64(0.005134242072160034)), (720, np.float64(0.005123552664120257)), (167, np.float64(0.0051202247412831655)), (857, np.float64(0.005117968569864228)), (793, np.float64(0.005116826962962093)), (513, np.float64(0.005109308226312863)), (758, np.float64(0.005104647954864573)), (636, np.float64(0.005104498460037909)), (154, np.float64(0.005104369541343317)), (650, np.float64(0.005099235908720667)), (841, np.float64(0.005095631817732208)), (905, np.float64(0.0050829220568813045)), (593, np.float64(0.005082556533604195)), (137, np.float64(0.005080124306068995)), (563, np.float64(0.005078017826002551)), (131, np.float64(0.005076309009763675)), (413, np.float64(0.00507512684982071)), (126, np.float64(0.005072270555362869)), (940, np.float64(0.005070883331883753)), (82, np.float64(0.005070727372751977)), (173, np.float64(0.005066358711865045)), (555, np.float64(0.005057892517658216)), (238, np.float64(0.005056575730083918)), (382, np.float64(0.005050592203290228)), (981, np.float64(0.005050335151128898)), (31, np.float64(0.005044916605596283)), (594, np.float64(0.005039026463352604)), (533, np.float64(0.005038992869150818)), (690, np.float64(0.00503809503550452)), (760, np.float64(0.0050375073239065085)), (783, np.float64(0.005033944146570246)), (913, np.float64(0.0050323734399489095)), (7, np.float64(0.005031832346859463)), (978, np.float64(0.005028306564332133)), (788, np.float64(0.005022862484229031)), (667, np.float64(0.005016429511412741)), (377, np.float64(0.005014298306818504)), (792, np.float64(0.005010116863768359)), (196, np.float64(0.005008886561133322)), (62, np.float64(0.005004079673084326)), (928, np.float64(0.0049974565334239005)), (585, np.float64(0.004993573096093001)), (228, np.float64(0.004985893872690006)), (897, np.float64(0.004985197257035726)), (430, np.float64(0.0049851108349666)), (266, np.float64(0.004984692766393947)), (625, np.float64(0.004981023070385992)), (574, np.float64(0.004978142164604448)), (598, np.float64(0.004977362269394257)), (88, np.float64(0.004976245643981663)), (285, np.float64(0.004973979261433449)), (466, np.float64(0.0049724517397088525)), (392, np.float64(0.004958112413373154)), (826, np.float64(0.004958084075467008)), (995, np.float64(0.004957394642672427)), (879, np.float64(0.0049565014296566855)), (805, np.float64(0.004955998147623384)), (188, np.float64(0.004950065478069636)), (752, np.float64(0.004948692324331653)), (200, np.float64(0.004945540708344143)), (267, np.float64(0.004944988191421551)), (138, np.float64(0.004943775932866769)), (104, np.float64(0.004940761158360942)), (355, np.float64(0.004939662508533703)), (613, np.float64(0.004938944029215859)), (296, np.float64(0.0049325956916181826)), (372, np.float64(0.004916130411772114)), (152, np.float64(0.004913213155027508)), (286, np.float64(0.004911954098572751)), (834, np.float64(0.004904876385953158)), (772, np.float64(0.004904865790916872)), (703, np.float64(0.004901726985326284)), (588, np.float64(0.00489765852582086)), (790, np.float64(0.0048961703049273195)), (354, np.float64(0.004895764272899182)), (235, np.float64(0.004895388901158632)), (32, np.float64(0.004892550404008709)), (877, np.float64(0.004887459924261631)), (327, np.float64(0.004886636075815901)), (813, np.float64(0.00487514995400021)), (256, np.float64(0.004869245660270465)), (313, np.float64(0.004867200522324608)), (182, np.float64(0.004862306788994121)), (269, np.float64(0.004858673706931486)), (930, np.float64(0.004857562922402602)), (810, np.float64(0.004855108414173243)), (868, np.float64(0.004852333904127486)), (229, np.float64(0.00484976191590293)), (581, np.float64(0.004847819192103274)), (358, np.float64(0.0048445643620198455)), (967, np.float64(0.004842578234893317)), (917, np.float64(0.004837529788661148)), (448, np.float64(0.004821219777500572)), (97, np.float64(0.004820101955321819)), (302, np.float64(0.004815863945402098)), (929, np.float64(0.004805187110200626)), (435, np.float64(0.004804460376875962)), (258, np.float64(0.004802461713830591)), (706, np.float64(0.004802393098614287)), (439, np.float64(0.004801990392035983)), (990, np.float64(0.004799652280978812)), (110, np.float64(0.004795972881693374)), (595, np.float64(0.004792199845312837)), (59, np.float64(0.004786023558913864)), (190, np.float64(0.00478400104519776)), (428, np.float64(0.004783604058442126)), (315, np.float64(0.004782897981088289)), (322, np.float64(0.004780213351242205)), (99, np.float64(0.004778552499659738)), (944, np.float64(0.004774094724547546)), (105, np.float64(0.00476643866920255)), (500, np.float64(0.004764452271173089)), (319, np.float64(0.004764273768469531)), (904, np.float64(0.004762241756377952)), (359, np.float64(0.004758044692863565)), (244, np.float64(0.0047551672076377935)), (672, np.float64(0.004752849753607425)), (728, np.float64(0.004749043228790726)), (90, np.float64(0.004748928392720609)), (626, np.float64(0.004747262908380628)), (741, np.float64(0.00474543506972162)), (227, np.float64(0.004744058594963582)), (65, np.float64(0.004740689774593755)), (658, np.float64(0.004738768156304393)), (85, np.float64(0.004726378271758183)), (934, np.float64(0.004722859518589868)), (225, np.float64(0.00471614251402879)), (509, np.float64(0.004714579236118585)), (589, np.float64(0.004702665295208448)), (716, np.float64(0.0046946035583666414)), (464, np.float64(0.004693197132077424)), (629, np.float64(0.004684807253753363)), (689, np.float64(0.004679550011372168)), (18, np.float64(0.004672727105883763)), (769, np.float64(0.004671558025158285)), (858, np.float64(0.004668831315021535)), (575, np.float64(0.004667049721381572)), (459, np.float64(0.004663726474534349)), (765, np.float64(0.004661840615039864)), (786, np.float64(0.004660790951790471)), (292, np.float64(0.004660433684599418)), (975, np.float64(0.004658648451027645)), (534, np.float64(0.004653506574717083)), (204, np.float64(0.004651034597891361)), (332, np.float64(0.004648992021686131)), (764, np.float64(0.004641735173291549)), (551, np.float64(0.0046379412263480085)), (475, np.float64(0.004633588965631309)), (571, np.float64(0.004628841218367412)), (462, np.float64(0.004627201734354535)), (935, np.float64(0.004626900160553019)), (157, np.float64(0.004624860099074243)), (291, np.float64(0.004623260637460326)), (753, np.float64(0.004612014940579371)), (804, np.float64(0.004610703565445335)), (215, np.float64(0.004610472548555166)), (301, np.float64(0.004606663746237223)), (528, np.float64(0.004604518159183572)), (541, np.float64(0.004600581088518117)), (290, np.float64(0.0045992791458414495)), (521, np.float64(0.004595643744131525)), (349, np.float64(0.004594223509564705)), (46, np.float64(0.0045889453876815905)), (490, np.float64(0.0045877376759689715)), (501, np.float64(0.004577491625779458)), (122, np.float64(0.004571019723001227)), (558, np.float64(0.004568806945672789)), (353, np.float64(0.004568144946344934)), (933, np.float64(0.004563825173431674)), (409, np.float64(0.004561769324106955)), (233, np.float64(0.004559580215368302)), (342, np.float64(0.004559416341335271)), (45, np.float64(0.004558348166906527)), (943, np.float64(0.0045578492161295475)), (336, np.float64(0.004557123570416369)), (624, np.float64(0.004557065035895534)), (208, np.float64(0.004556131188803873)), (92, np.float64(0.004554605369442131)), (825, np.float64(0.004552336105025588)), (206, np.float64(0.004549817102044995)), (388, np.float64(0.004549625985881589)), (148, np.float64(0.0045421948432117845)), (149, np.float64(0.004540312421014513)), (508, np.float64(0.004538000925567783)), (496, np.float64(0.0045370053286278265)), (504, np.float64(0.004534993158633729)), (352, np.float64(0.0045237222487023825)), (526, np.float64(0.004522201157337389)), (102, np.float64(0.004522167683920695)), (946, np.float64(0.004521510643117245)), (472, np.float64(0.004509683584868367)), (606, np.float64(0.004507948623373231)), (68, np.float64(0.004505482551056956)), (185, np.float64(0.0044939294284529665)), (701, np.float64(0.004489118410844345)), (754, np.float64(0.004470585209932338)), (907, np.float64(0.004466837294355177)), (997, np.float64(0.004450421191473556)), (646, np.float64(0.004438723151016781)), (334, np.float64(0.004425047142947146)), (668, np.float64(0.004420101591663552)), (51, np.float64(0.0044159229610926725)), (19, np.float64(0.0044103961358945894)), (747, np.float64(0.004410190770414283)), (52, np.float64(0.004407789267214086)), (845, np.float64(0.004401521704471231)), (234, np.float64(0.004400781227681122)), (518, np.float64(0.0043873771138620106)), (408, np.float64(0.004377009589833119)), (351, np.float64(0.004376605387700853)), (923, np.float64(0.004375852966846385)), (150, np.float64(0.004373808683908614)), (866, np.float64(0.0043735949105564885)), (264, np.float64(0.004372480172190606)), (619, np.float64(0.004359283729054235)), (240, np.float64(0.004353270822371905)), (886, np.float64(0.0043443475658165665)), (911, np.float64(0.00433929328368976)), (936, np.float64(0.004336294214540267)), (56, np.float64(0.004335880900005354)), (735, np.float64(0.004321091294874794)), (407, np.float64(0.004320270040344765)), (492, np.float64(0.004318318258891167)), (236, np.float64(0.00429728420864086)), (306, np.float64(0.004288621931782032)), (197, np.float64(0.004282080498647552)), (293, np.float64(0.0042812237976711685)), (812, np.float64(0.004270825022833015)), (247, np.float64(0.004262054770268462)), (734, np.float64(0.004247741015679788)), (221, np.float64(0.004228823685198907)), (89, np.float64(0.004226701099576611)), (381, np.float64(0.004210042449279009)), (638, np.float64(0.004209124151665468)), (640, np.float64(0.0041957109379316265)), (199, np.float64(0.00419212168235467)), (431, np.float64(0.004191729574570337)), (402, np.float64(0.004180230797719136)), (467, np.float64(0.004169875527282896)), (971, np.float64(0.004144879844614475)), (957, np.float64(0.004139817716822033)), (265, np.float64(0.004129290228694347)), (211, np.float64(0.004110676258809073)), (317, np.float64(0.004108714787356111)), (610, np.float64(0.00410240329982695)), (806, np.float64(0.004101504468807961)), (903, np.float64(0.004081434989531701)), (924, np.float64(0.0040708537984729815)), (143, np.float64(0.004054914701324227)), (726, np.float64(0.004054123547905239)), (139, np.float64(0.0040392386272661285)), (365, np.float64(0.004019625590108293)), (374, np.float64(0.004014235348232621)), (537, np.float64(0.004010498512270347)), (249, np.float64(0.004006670238462902)), (433, np.float64(0.003981317494439637)), (815, np.float64(0.003979499743632848)), (195, np.float64(0.003931970888619094)), (641, np.float64(0.003920645999787701)), (379, np.float64(0.003848853479076798)), (391, np.float64(0.003842416128524577)), (253, np.float64(0.0038114550976182464)), (26, np.float64(0.0037630685741489723)), (91, np.float64(0.003748649071313653)), (100, np.float64(0.003617939425587529)), (246, np.float64(0.0034630030840307907)), (371, np.float64(0.003008745399577795)), (8, np.float64(0.0)), (12, np.float64(0.0)), (23, np.float64(0.0)), (44, np.float64(0.0)), (49, np.float64(0.0)), (60, np.float64(0.0)), (61, np.float64(0.0)), (66, np.float64(0.0)), (69, np.float64(0.0)), (70, np.float64(0.0)), (75, np.float64(0.0)), (95, np.float64(0.0)), (101, np.float64(0.0)), (106, np.float64(0.0)), (114, np.float64(0.0)), (115, np.float64(0.0)), (118, np.float64(0.0)), (135, np.float64(0.0)), (145, np.float64(0.0)), (146, np.float64(0.0)), (151, np.float64(0.0)), (155, np.float64(0.0)), (158, np.float64(0.0)), (166, np.float64(0.0)), (170, np.float64(0.0)), (171, np.float64(0.0)), (177, np.float64(0.0)), (183, np.float64(0.0)), (192, np.float64(0.0)), (194, np.float64(0.0)), (205, np.float64(0.0)), (213, np.float64(0.0)), (220, np.float64(0.0)), (223, np.float64(0.0)), (230, np.float64(0.0)), (242, np.float64(0.0)), (245, np.float64(0.0)), (262, np.float64(0.0)), (270, np.float64(0.0)), (277, np.float64(0.0)), (316, np.float64(0.0)), (321, np.float64(0.0)), (325, np.float64(0.0)), (330, np.float64(0.0)), (348, np.float64(0.0)), (366, np.float64(0.0)), (367, np.float64(0.0)), (368, np.float64(0.0)), (393, np.float64(0.0)), (396, np.float64(0.0)), (399, np.float64(0.0)), (405, np.float64(0.0)), (414, np.float64(0.0)), (415, np.float64(0.0)), (417, np.float64(0.0)), (420, np.float64(0.0)), (446, np.float64(0.0)), (469, np.float64(0.0)), (473, np.float64(0.0)), (479, np.float64(0.0)), (482, np.float64(0.0)), (488, np.float64(0.0)), (493, np.float64(0.0)), (499, np.float64(0.0)), (502, np.float64(0.0)), (507, np.float64(0.0)), (516, np.float64(0.0)), (522, np.float64(0.0)), (530, np.float64(0.0)), (531, np.float64(0.0)), (539, np.float64(0.0)), (540, np.float64(0.0)), (547, np.float64(0.0)), (566, np.float64(0.0)), (568, np.float64(0.0)), (576, np.float64(0.0)), (582, np.float64(0.0)), (583, np.float64(0.0)), (591, np.float64(0.0)), (592, np.float64(0.0)), (596, np.float64(0.0)), (599, np.float64(0.0)), (615, np.float64(0.0)), (623, np.float64(0.0)), (627, np.float64(0.0)), (633, np.float64(0.0)), (634, np.float64(0.0)), (645, np.float64(0.0)), (651, np.float64(0.0)), (677, np.float64(0.0)), (678, np.float64(0.0)), (679, np.float64(0.0)), (685, np.float64(0.0)), (694, np.float64(0.0)), (700, np.float64(0.0)), (704, np.float64(0.0)), (711, np.float64(0.0)), (712, np.float64(0.0)), (715, np.float64(0.0)), (717, np.float64(0.0)), (722, np.float64(0.0)), (724, np.float64(0.0)), (725, np.float64(0.0)), (740, np.float64(0.0)), (743, np.float64(0.0)), (746, np.float64(0.0)), (749, np.float64(0.0)), (751, np.float64(0.0)), (756, np.float64(0.0)), (761, np.float64(0.0)), (771, np.float64(0.0)), (776, np.float64(0.0)), (796, np.float64(0.0)), (799, np.float64(0.0)), (800, np.float64(0.0)), (816, np.float64(0.0)), (822, np.float64(0.0)), (828, np.float64(0.0)), (829, np.float64(0.0)), (837, np.float64(0.0)), (840, np.float64(0.0)), (842, np.float64(0.0)), (843, np.float64(0.0)), (844, np.float64(0.0)), (846, np.float64(0.0)), (848, np.float64(0.0)), (854, np.float64(0.0)), (861, np.float64(0.0)), (891, np.float64(0.0)), (892, np.float64(0.0)), (899, np.float64(0.0)), (900, np.float64(0.0)), (902, np.float64(0.0)), (912, np.float64(0.0)), (914, np.float64(0.0)), (919, np.float64(0.0)), (932, np.float64(0.0)), (956, np.float64(0.0)), (959, np.float64(0.0)), (961, np.float64(0.0)), (963, np.float64(0.0)), (969, np.float64(0.0)), (973, np.float64(0.0)), (982, np.float64(0.0)), (991, np.float64(0.0)), (994, np.float64(0.0))]\n"
          ]
        }
      ]
    },
    {
      "cell_type": "code",
      "source": [
        "#printing the top 10 similar movies\n",
        "print(\"Top 10 Movies for You: \\n\")\n",
        "\n",
        "i=1\n",
        "for movie in sorted_similar_list:\n",
        "  ind = movie[0]\n",
        "  title_name = movies[movies.index==ind]['Series_Title'].values[0]\n",
        "  if i<=10:\n",
        "    print(i,'.',title_name)\n",
        "    i+=1"
      ],
      "metadata": {
        "colab": {
          "base_uri": "https://localhost:8080/"
        },
        "id": "KTt6PS-pVLrr",
        "outputId": "a6e0a11d-1a64-4494-985d-9fe78608474a"
      },
      "execution_count": null,
      "outputs": [
        {
          "output_type": "stream",
          "name": "stdout",
          "text": [
            "Top 10 Movies for You: \n",
            "\n",
            "1 . The Godfather\n",
            "2 . The Godfather: Part II\n",
            "3 . The Godfather: Part III\n",
            "4 . Apocalypse Now\n",
            "5 . The Conversation\n",
            "6 . On the Waterfront\n",
            "7 . The Irishman\n",
            "8 . Heat\n",
            "9 . A Streetcar Named Desire\n",
            "10 . Serpico\n"
          ]
        }
      ]
    }
  ]
}